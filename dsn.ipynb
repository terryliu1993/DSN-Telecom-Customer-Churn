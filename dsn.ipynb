{
  "nbformat": 4,
  "nbformat_minor": 0,
  "metadata": {
    "colab": {
      "name": "dsn.ipynb",
      "provenance": [],
      "include_colab_link": true
    },
    "kernelspec": {
      "display_name": "Python 3",
      "language": "python",
      "name": "python3"
    },
    "language_info": {
      "codemirror_mode": {
        "name": "ipython",
        "version": 3
      },
      "file_extension": ".py",
      "mimetype": "text/x-python",
      "name": "python",
      "nbconvert_exporter": "python",
      "pygments_lexer": "ipython3",
      "version": "3.7.4"
    }
  },
  "cells": [
    {
      "cell_type": "markdown",
      "metadata": {
        "id": "view-in-github",
        "colab_type": "text"
      },
      "source": [
        "<a href=\"https://colab.research.google.com/github/terryliu1993/DSN-Telecom-Customer-Churn/blob/main/dsn.ipynb\" target=\"_parent\"><img src=\"https://colab.research.google.com/assets/colab-badge.svg\" alt=\"Open In Colab\"/></a>"
      ]
    },
    {
      "cell_type": "code",
      "metadata": {
        "id": "iFcBrPmlXqHG"
      },
      "source": [
        "import pandas as pd\n",
        "import numpy as np\n",
        "from sklearn.model_selection import train_test_split\n",
        "from sklearn.preprocessing import StandardScaler\n",
        "import seaborn as sns\n",
        "import matplotlib.pyplot as plt\n"
      ],
      "execution_count": null,
      "outputs": []
    },
    {
      "cell_type": "markdown",
      "metadata": {
        "id": "XZ8jsb8UXqHS"
      },
      "source": [
        "# load data file"
      ]
    },
    {
      "cell_type": "code",
      "metadata": {
        "colab": {
          "resources": {
            "http://localhost:8080/nbextensions/google.colab/files.js": {
              "data": "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",
              "ok": true,
              "headers": [
                [
                  "content-type",
                  "application/javascript"
                ]
              ],
              "status": 200,
              "status_text": ""
            }
          },
          "base_uri": "https://localhost:8080/",
          "height": 91
        },
        "id": "tBsLvZeCXqHS",
        "outputId": "167c658a-af44-46aa-ddd0-eaba9374f46a"
      },
      "source": [
        "# data = pd.read_csv(\"train.csv\", header=0)\n",
        "\n",
        "\n",
        "# use this only if you use google colab[[[DO NOT DELETE不要删]]]\n",
        "from google.colab import files\n",
        "uploaded = files.upload()\n",
        "for fn in uploaded.keys():\n",
        "  print('User uploaded file \"{name}\" with length {length} bytes'.format(\n",
        "      name=fn, length=len(uploaded[fn])))"
      ],
      "execution_count": null,
      "outputs": [
        {
          "output_type": "display_data",
          "data": {
            "text/html": [
              "\n",
              "     <input type=\"file\" id=\"files-55ef905c-7de7-4344-82ad-e9d73e55ba49\" name=\"files[]\" multiple disabled\n",
              "        style=\"border:none\" />\n",
              "     <output id=\"result-55ef905c-7de7-4344-82ad-e9d73e55ba49\">\n",
              "      Upload widget is only available when the cell has been executed in the\n",
              "      current browser session. Please rerun this cell to enable.\n",
              "      </output>\n",
              "      <script src=\"/nbextensions/google.colab/files.js\"></script> "
            ],
            "text/plain": [
              "<IPython.core.display.HTML object>"
            ]
          },
          "metadata": {
            "tags": []
          }
        },
        {
          "output_type": "stream",
          "text": [
            "Saving train.csv to train.csv\n",
            "User uploaded file \"train.csv\" with length 702612 bytes\n"
          ],
          "name": "stdout"
        }
      ]
    },
    {
      "cell_type": "code",
      "metadata": {
        "colab": {
          "base_uri": "https://localhost:8080/",
          "height": 291
        },
        "id": "rsocBGGwZ_tH",
        "outputId": "3b40360b-8cb7-45f5-ab4c-1a24c424bf20"
      },
      "source": [
        "data=pd.read_csv('train.csv',header=0)\n",
        "data.head()"
      ],
      "execution_count": null,
      "outputs": [
        {
          "output_type": "execute_result",
          "data": {
            "text/html": [
              "<div>\n",
              "<style scoped>\n",
              "    .dataframe tbody tr th:only-of-type {\n",
              "        vertical-align: middle;\n",
              "    }\n",
              "\n",
              "    .dataframe tbody tr th {\n",
              "        vertical-align: top;\n",
              "    }\n",
              "\n",
              "    .dataframe thead th {\n",
              "        text-align: right;\n",
              "    }\n",
              "</style>\n",
              "<table border=\"1\" class=\"dataframe\">\n",
              "  <thead>\n",
              "    <tr style=\"text-align: right;\">\n",
              "      <th></th>\n",
              "      <th>Index</th>\n",
              "      <th>customerID</th>\n",
              "      <th>gender</th>\n",
              "      <th>SeniorCitizen</th>\n",
              "      <th>Partner</th>\n",
              "      <th>Dependents</th>\n",
              "      <th>tenure</th>\n",
              "      <th>PhoneService</th>\n",
              "      <th>MultipleLines</th>\n",
              "      <th>InternetService</th>\n",
              "      <th>OnlineSecurity</th>\n",
              "      <th>OnlineBackup</th>\n",
              "      <th>DeviceProtection</th>\n",
              "      <th>TechSupport</th>\n",
              "      <th>StreamingTV</th>\n",
              "      <th>StreamingMovies</th>\n",
              "      <th>Contract</th>\n",
              "      <th>PaperlessBilling</th>\n",
              "      <th>PaymentMethod</th>\n",
              "      <th>MonthlyCharges</th>\n",
              "      <th>TotalCharges</th>\n",
              "      <th>Churn</th>\n",
              "    </tr>\n",
              "  </thead>\n",
              "  <tbody>\n",
              "    <tr>\n",
              "      <th>0</th>\n",
              "      <td>1695</td>\n",
              "      <td>4906-ZHGPK</td>\n",
              "      <td>Male</td>\n",
              "      <td>0</td>\n",
              "      <td>Yes</td>\n",
              "      <td>Yes</td>\n",
              "      <td>54</td>\n",
              "      <td>Yes</td>\n",
              "      <td>Yes</td>\n",
              "      <td>DSL</td>\n",
              "      <td>No</td>\n",
              "      <td>Yes</td>\n",
              "      <td>No</td>\n",
              "      <td>Yes</td>\n",
              "      <td>Yes</td>\n",
              "      <td>No</td>\n",
              "      <td>One year</td>\n",
              "      <td>Yes</td>\n",
              "      <td>Electronic check</td>\n",
              "      <td>70.70</td>\n",
              "      <td>3770</td>\n",
              "      <td>0</td>\n",
              "    </tr>\n",
              "    <tr>\n",
              "      <th>1</th>\n",
              "      <td>1095</td>\n",
              "      <td>7439-DKZTW</td>\n",
              "      <td>Male</td>\n",
              "      <td>0</td>\n",
              "      <td>No</td>\n",
              "      <td>No</td>\n",
              "      <td>1</td>\n",
              "      <td>Yes</td>\n",
              "      <td>No</td>\n",
              "      <td>Fiber optic</td>\n",
              "      <td>No</td>\n",
              "      <td>No</td>\n",
              "      <td>No</td>\n",
              "      <td>No</td>\n",
              "      <td>Yes</td>\n",
              "      <td>No</td>\n",
              "      <td>Month-to-month</td>\n",
              "      <td>Yes</td>\n",
              "      <td>Electronic check</td>\n",
              "      <td>80.55</td>\n",
              "      <td>80.55</td>\n",
              "      <td>0</td>\n",
              "    </tr>\n",
              "    <tr>\n",
              "      <th>2</th>\n",
              "      <td>3889</td>\n",
              "      <td>2592-HODOV</td>\n",
              "      <td>Male</td>\n",
              "      <td>0</td>\n",
              "      <td>No</td>\n",
              "      <td>No</td>\n",
              "      <td>13</td>\n",
              "      <td>Yes</td>\n",
              "      <td>No</td>\n",
              "      <td>No</td>\n",
              "      <td>No internet service</td>\n",
              "      <td>No internet service</td>\n",
              "      <td>No internet service</td>\n",
              "      <td>No internet service</td>\n",
              "      <td>No internet service</td>\n",
              "      <td>No internet service</td>\n",
              "      <td>One year</td>\n",
              "      <td>No</td>\n",
              "      <td>Credit card (automatic)</td>\n",
              "      <td>19.30</td>\n",
              "      <td>259.65</td>\n",
              "      <td>0</td>\n",
              "    </tr>\n",
              "    <tr>\n",
              "      <th>3</th>\n",
              "      <td>3667</td>\n",
              "      <td>7826-VVKWT</td>\n",
              "      <td>Female</td>\n",
              "      <td>1</td>\n",
              "      <td>Yes</td>\n",
              "      <td>Yes</td>\n",
              "      <td>24</td>\n",
              "      <td>Yes</td>\n",
              "      <td>No</td>\n",
              "      <td>Fiber optic</td>\n",
              "      <td>No</td>\n",
              "      <td>No</td>\n",
              "      <td>Yes</td>\n",
              "      <td>No</td>\n",
              "      <td>Yes</td>\n",
              "      <td>Yes</td>\n",
              "      <td>Two year</td>\n",
              "      <td>Yes</td>\n",
              "      <td>Electronic check</td>\n",
              "      <td>96.55</td>\n",
              "      <td>2263.45</td>\n",
              "      <td>0</td>\n",
              "    </tr>\n",
              "    <tr>\n",
              "      <th>4</th>\n",
              "      <td>2902</td>\n",
              "      <td>1658-TJVOA</td>\n",
              "      <td>Female</td>\n",
              "      <td>1</td>\n",
              "      <td>No</td>\n",
              "      <td>No</td>\n",
              "      <td>6</td>\n",
              "      <td>Yes</td>\n",
              "      <td>No</td>\n",
              "      <td>Fiber optic</td>\n",
              "      <td>Yes</td>\n",
              "      <td>No</td>\n",
              "      <td>No</td>\n",
              "      <td>No</td>\n",
              "      <td>No</td>\n",
              "      <td>No</td>\n",
              "      <td>Month-to-month</td>\n",
              "      <td>Yes</td>\n",
              "      <td>Electronic check</td>\n",
              "      <td>74.10</td>\n",
              "      <td>450.9</td>\n",
              "      <td>0</td>\n",
              "    </tr>\n",
              "  </tbody>\n",
              "</table>\n",
              "</div>"
            ],
            "text/plain": [
              "   Index  customerID  gender  ...  MonthlyCharges TotalCharges Churn\n",
              "0   1695  4906-ZHGPK    Male  ...           70.70         3770     0\n",
              "1   1095  7439-DKZTW    Male  ...           80.55        80.55     0\n",
              "2   3889  2592-HODOV    Male  ...           19.30       259.65     0\n",
              "3   3667  7826-VVKWT  Female  ...           96.55      2263.45     0\n",
              "4   2902  1658-TJVOA  Female  ...           74.10        450.9     0\n",
              "\n",
              "[5 rows x 22 columns]"
            ]
          },
          "metadata": {
            "tags": []
          },
          "execution_count": 3
        }
      ]
    },
    {
      "cell_type": "code",
      "metadata": {
        "colab": {
          "base_uri": "https://localhost:8080/"
        },
        "id": "UuQV4pB0a9RT",
        "outputId": "c49c7bd6-ce1f-444f-b886-cb2d3a76865f"
      },
      "source": [
        "data.info()"
      ],
      "execution_count": null,
      "outputs": [
        {
          "output_type": "stream",
          "text": [
            "<class 'pandas.core.frame.DataFrame'>\n",
            "RangeIndex: 4930 entries, 0 to 4929\n",
            "Data columns (total 22 columns):\n",
            " #   Column            Non-Null Count  Dtype  \n",
            "---  ------            --------------  -----  \n",
            " 0   Index             4930 non-null   int64  \n",
            " 1   customerID        4930 non-null   object \n",
            " 2   gender            4930 non-null   object \n",
            " 3   SeniorCitizen     4930 non-null   int64  \n",
            " 4   Partner           4930 non-null   object \n",
            " 5   Dependents        4930 non-null   object \n",
            " 6   tenure            4930 non-null   int64  \n",
            " 7   PhoneService      4930 non-null   object \n",
            " 8   MultipleLines     4930 non-null   object \n",
            " 9   InternetService   4930 non-null   object \n",
            " 10  OnlineSecurity    4930 non-null   object \n",
            " 11  OnlineBackup      4930 non-null   object \n",
            " 12  DeviceProtection  4930 non-null   object \n",
            " 13  TechSupport       4930 non-null   object \n",
            " 14  StreamingTV       4930 non-null   object \n",
            " 15  StreamingMovies   4930 non-null   object \n",
            " 16  Contract          4930 non-null   object \n",
            " 17  PaperlessBilling  4930 non-null   object \n",
            " 18  PaymentMethod     4930 non-null   object \n",
            " 19  MonthlyCharges    4930 non-null   float64\n",
            " 20  TotalCharges      4930 non-null   object \n",
            " 21  Churn             4930 non-null   int64  \n",
            "dtypes: float64(1), int64(4), object(17)\n",
            "memory usage: 847.5+ KB\n"
          ],
          "name": "stdout"
        }
      ]
    },
    {
      "cell_type": "markdown",
      "metadata": {
        "id": "5Dj0jo91XqHS"
      },
      "source": [
        "delete customerID and Index"
      ]
    },
    {
      "cell_type": "code",
      "metadata": {
        "colab": {
          "base_uri": "https://localhost:8080/"
        },
        "id": "lPTGMwM8XqHT",
        "outputId": "f62d8d2c-a2ee-4ac7-a8b7-b32c0565c9f3"
      },
      "source": [
        "data.drop(['customerID'],axis=1,inplace=True)\n",
        "data.drop(['Index'],axis=1,inplace=True)\n",
        "\n",
        "print('Number of rows before drop: ',data.shape[0])\n",
        "data.drop(data[data['TotalCharges']==\" \"].index,axis=0,inplace=True) #drop rows with missing TotalCharges\n",
        "print('Number of rows after drop: ',data.shape[0])"
      ],
      "execution_count": null,
      "outputs": [
        {
          "output_type": "stream",
          "text": [
            "Number of rows before drop:  4930\n",
            "Number of rows after drop:  4922\n"
          ],
          "name": "stdout"
        }
      ]
    },
    {
      "cell_type": "code",
      "metadata": {
        "id": "KvdGFED8XqHT"
      },
      "source": [
        ""
      ],
      "execution_count": null,
      "outputs": []
    },
    {
      "cell_type": "code",
      "metadata": {
        "colab": {
          "base_uri": "https://localhost:8080/"
        },
        "id": "14b9fRg5XqHU",
        "outputId": "e4ce20d1-982a-4438-b553-6d2789f2ac3e"
      },
      "source": [
        "print('Number of features: {}'.format(data.shape[1]))\n",
        "print('Number of entries: {}'.format(data.shape[0]))"
      ],
      "execution_count": null,
      "outputs": [
        {
          "output_type": "stream",
          "text": [
            "Number of features: 20\n",
            "Number of entries: 4922\n"
          ],
          "name": "stdout"
        }
      ]
    },
    {
      "cell_type": "code",
      "metadata": {
        "colab": {
          "base_uri": "https://localhost:8080/",
          "height": 294
        },
        "id": "x-L0jO7JXqHV",
        "outputId": "1e8f4f7a-7ca6-4ede-d236-a67558ac6f3e"
      },
      "source": [
        "data.describe()"
      ],
      "execution_count": null,
      "outputs": [
        {
          "output_type": "execute_result",
          "data": {
            "text/html": [
              "<div>\n",
              "<style scoped>\n",
              "    .dataframe tbody tr th:only-of-type {\n",
              "        vertical-align: middle;\n",
              "    }\n",
              "\n",
              "    .dataframe tbody tr th {\n",
              "        vertical-align: top;\n",
              "    }\n",
              "\n",
              "    .dataframe thead th {\n",
              "        text-align: right;\n",
              "    }\n",
              "</style>\n",
              "<table border=\"1\" class=\"dataframe\">\n",
              "  <thead>\n",
              "    <tr style=\"text-align: right;\">\n",
              "      <th></th>\n",
              "      <th>SeniorCitizen</th>\n",
              "      <th>tenure</th>\n",
              "      <th>MonthlyCharges</th>\n",
              "      <th>Churn</th>\n",
              "    </tr>\n",
              "  </thead>\n",
              "  <tbody>\n",
              "    <tr>\n",
              "      <th>count</th>\n",
              "      <td>4930.000000</td>\n",
              "      <td>4930.000000</td>\n",
              "      <td>4930.000000</td>\n",
              "      <td>4930.000000</td>\n",
              "    </tr>\n",
              "    <tr>\n",
              "      <th>mean</th>\n",
              "      <td>0.160243</td>\n",
              "      <td>32.434280</td>\n",
              "      <td>64.795122</td>\n",
              "      <td>0.262677</td>\n",
              "    </tr>\n",
              "    <tr>\n",
              "      <th>std</th>\n",
              "      <td>0.366869</td>\n",
              "      <td>24.479003</td>\n",
              "      <td>30.141247</td>\n",
              "      <td>0.440133</td>\n",
              "    </tr>\n",
              "    <tr>\n",
              "      <th>min</th>\n",
              "      <td>0.000000</td>\n",
              "      <td>0.000000</td>\n",
              "      <td>18.250000</td>\n",
              "      <td>0.000000</td>\n",
              "    </tr>\n",
              "    <tr>\n",
              "      <th>25%</th>\n",
              "      <td>0.000000</td>\n",
              "      <td>9.000000</td>\n",
              "      <td>35.400000</td>\n",
              "      <td>0.000000</td>\n",
              "    </tr>\n",
              "    <tr>\n",
              "      <th>50%</th>\n",
              "      <td>0.000000</td>\n",
              "      <td>29.000000</td>\n",
              "      <td>70.400000</td>\n",
              "      <td>0.000000</td>\n",
              "    </tr>\n",
              "    <tr>\n",
              "      <th>75%</th>\n",
              "      <td>0.000000</td>\n",
              "      <td>55.000000</td>\n",
              "      <td>89.850000</td>\n",
              "      <td>1.000000</td>\n",
              "    </tr>\n",
              "    <tr>\n",
              "      <th>max</th>\n",
              "      <td>1.000000</td>\n",
              "      <td>72.000000</td>\n",
              "      <td>118.600000</td>\n",
              "      <td>1.000000</td>\n",
              "    </tr>\n",
              "  </tbody>\n",
              "</table>\n",
              "</div>"
            ],
            "text/plain": [
              "       SeniorCitizen       tenure  MonthlyCharges        Churn\n",
              "count    4930.000000  4930.000000     4930.000000  4930.000000\n",
              "mean        0.160243    32.434280       64.795122     0.262677\n",
              "std         0.366869    24.479003       30.141247     0.440133\n",
              "min         0.000000     0.000000       18.250000     0.000000\n",
              "25%         0.000000     9.000000       35.400000     0.000000\n",
              "50%         0.000000    29.000000       70.400000     0.000000\n",
              "75%         0.000000    55.000000       89.850000     1.000000\n",
              "max         1.000000    72.000000      118.600000     1.000000"
            ]
          },
          "metadata": {
            "tags": []
          },
          "execution_count": 15
        }
      ]
    },
    {
      "cell_type": "code",
      "metadata": {
        "colab": {
          "base_uri": "https://localhost:8080/"
        },
        "id": "BS8v-1w_XqHV",
        "outputId": "dafa3cc5-fd58-49c6-debb-e2fcba00df46"
      },
      "source": [
        "data.isnull().sum()"
      ],
      "execution_count": null,
      "outputs": [
        {
          "output_type": "execute_result",
          "data": {
            "text/plain": [
              "gender              0\n",
              "SeniorCitizen       0\n",
              "Partner             0\n",
              "Dependents          0\n",
              "tenure              0\n",
              "PhoneService        0\n",
              "MultipleLines       0\n",
              "InternetService     0\n",
              "OnlineSecurity      0\n",
              "OnlineBackup        0\n",
              "DeviceProtection    0\n",
              "TechSupport         0\n",
              "StreamingTV         0\n",
              "StreamingMovies     0\n",
              "Contract            0\n",
              "PaperlessBilling    0\n",
              "PaymentMethod       0\n",
              "MonthlyCharges      0\n",
              "TotalCharges        0\n",
              "Churn               0\n",
              "dtype: int64"
            ]
          },
          "metadata": {
            "tags": []
          },
          "execution_count": 16
        }
      ]
    },
    {
      "cell_type": "code",
      "metadata": {
        "id": "7eZhQ0oSDeOg"
      },
      "source": [
        ""
      ],
      "execution_count": null,
      "outputs": []
    },
    {
      "cell_type": "markdown",
      "metadata": {
        "id": "g935rSdTXqHW"
      },
      "source": [
        "check data types"
      ]
    },
    {
      "cell_type": "code",
      "metadata": {
        "colab": {
          "base_uri": "https://localhost:8080/"
        },
        "id": "VWchf5kRXqHW",
        "outputId": "87351548-db30-41f0-d133-ff3cb17a7118"
      },
      "source": [
        "data.dtypes"
      ],
      "execution_count": null,
      "outputs": [
        {
          "output_type": "execute_result",
          "data": {
            "text/plain": [
              "gender               object\n",
              "SeniorCitizen         int64\n",
              "Partner              object\n",
              "Dependents           object\n",
              "tenure                int64\n",
              "PhoneService         object\n",
              "MultipleLines        object\n",
              "InternetService      object\n",
              "OnlineSecurity       object\n",
              "OnlineBackup         object\n",
              "DeviceProtection     object\n",
              "TechSupport          object\n",
              "StreamingTV          object\n",
              "StreamingMovies      object\n",
              "Contract             object\n",
              "PaperlessBilling     object\n",
              "PaymentMethod        object\n",
              "MonthlyCharges      float64\n",
              "TotalCharges         object\n",
              "Churn                 int64\n",
              "dtype: object"
            ]
          },
          "metadata": {
            "tags": []
          },
          "execution_count": 17
        }
      ]
    },
    {
      "cell_type": "code",
      "metadata": {
        "colab": {
          "base_uri": "https://localhost:8080/"
        },
        "id": "oHchTAJFXqHW",
        "outputId": "9302e3ce-68f5-4585-ff96-bd0e27de0368"
      },
      "source": [
        "data['TotalCharges'].head()"
      ],
      "execution_count": null,
      "outputs": [
        {
          "output_type": "execute_result",
          "data": {
            "text/plain": [
              "0       3770\n",
              "1      80.55\n",
              "2     259.65\n",
              "3    2263.45\n",
              "4      450.9\n",
              "Name: TotalCharges, dtype: object"
            ]
          },
          "metadata": {
            "tags": []
          },
          "execution_count": 18
        }
      ]
    },
    {
      "cell_type": "markdown",
      "metadata": {
        "id": "UTaahCxaXqHW"
      },
      "source": [
        "For TotalCharges, convert its data type from object to numeric"
      ]
    },
    {
      "cell_type": "code",
      "metadata": {
        "id": "mrQkOeZyXqHX"
      },
      "source": [
        "data['TotalCharges']=data['TotalCharges'].apply(lambda col:pd.to_numeric(col, errors='coerce'))"
      ],
      "execution_count": null,
      "outputs": []
    },
    {
      "cell_type": "code",
      "metadata": {
        "colab": {
          "base_uri": "https://localhost:8080/"
        },
        "id": "upjrJWIkXqHX",
        "outputId": "1e71e12d-1aee-461e-e1ae-5bc5af16a4c4"
      },
      "source": [
        "data.dtypes"
      ],
      "execution_count": null,
      "outputs": [
        {
          "output_type": "execute_result",
          "data": {
            "text/plain": [
              "gender               object\n",
              "SeniorCitizen         int64\n",
              "Partner              object\n",
              "Dependents           object\n",
              "tenure                int64\n",
              "PhoneService         object\n",
              "MultipleLines        object\n",
              "InternetService      object\n",
              "OnlineSecurity       object\n",
              "OnlineBackup         object\n",
              "DeviceProtection     object\n",
              "TechSupport          object\n",
              "StreamingTV          object\n",
              "StreamingMovies      object\n",
              "Contract             object\n",
              "PaperlessBilling     object\n",
              "PaymentMethod        object\n",
              "MonthlyCharges      float64\n",
              "TotalCharges        float64\n",
              "Churn                 int64\n",
              "dtype: object"
            ]
          },
          "metadata": {
            "tags": []
          },
          "execution_count": 7
        }
      ]
    },
    {
      "cell_type": "code",
      "metadata": {
        "id": "QTzSSM-kCItK"
      },
      "source": [
        ""
      ],
      "execution_count": null,
      "outputs": []
    },
    {
      "cell_type": "code",
      "metadata": {
        "colab": {
          "base_uri": "https://localhost:8080/",
          "height": 570
        },
        "id": "jRLPwfyHdSlN",
        "outputId": "3f73c6d0-072d-4d60-fd8f-354a97e2ba80"
      },
      "source": [
        "#categorical features\n",
        "all_features=np.array(data.columns)\n",
        "continuous_features=np.array(['tenure','MonthlyCharges','TotalCharges'])\n",
        "categ_features=np.setdiff1d(all_features,continuous_features)\n",
        "categ_features=categ_features[::-1]\n",
        "\n",
        "#table of change of categorical variable values\n",
        "dict={}\n",
        "for col_name in categ_features:\n",
        "  dict[col_name]=data[col_name].unique()\n",
        "pd.DataFrame([(k,v) for k,v in dict.items()]).rename(columns={0:'Features',1:'Values'})"
      ],
      "execution_count": null,
      "outputs": [
        {
          "output_type": "execute_result",
          "data": {
            "text/html": [
              "<div>\n",
              "<style scoped>\n",
              "    .dataframe tbody tr th:only-of-type {\n",
              "        vertical-align: middle;\n",
              "    }\n",
              "\n",
              "    .dataframe tbody tr th {\n",
              "        vertical-align: top;\n",
              "    }\n",
              "\n",
              "    .dataframe thead th {\n",
              "        text-align: right;\n",
              "    }\n",
              "</style>\n",
              "<table border=\"1\" class=\"dataframe\">\n",
              "  <thead>\n",
              "    <tr style=\"text-align: right;\">\n",
              "      <th></th>\n",
              "      <th>Features</th>\n",
              "      <th>Values</th>\n",
              "    </tr>\n",
              "  </thead>\n",
              "  <tbody>\n",
              "    <tr>\n",
              "      <th>0</th>\n",
              "      <td>gender</td>\n",
              "      <td>[Male, Female]</td>\n",
              "    </tr>\n",
              "    <tr>\n",
              "      <th>1</th>\n",
              "      <td>TechSupport</td>\n",
              "      <td>[Yes, No, No internet service]</td>\n",
              "    </tr>\n",
              "    <tr>\n",
              "      <th>2</th>\n",
              "      <td>StreamingTV</td>\n",
              "      <td>[Yes, No internet service, No]</td>\n",
              "    </tr>\n",
              "    <tr>\n",
              "      <th>3</th>\n",
              "      <td>StreamingMovies</td>\n",
              "      <td>[No, No internet service, Yes]</td>\n",
              "    </tr>\n",
              "    <tr>\n",
              "      <th>4</th>\n",
              "      <td>SeniorCitizen</td>\n",
              "      <td>[0, 1]</td>\n",
              "    </tr>\n",
              "    <tr>\n",
              "      <th>5</th>\n",
              "      <td>PhoneService</td>\n",
              "      <td>[Yes, No]</td>\n",
              "    </tr>\n",
              "    <tr>\n",
              "      <th>6</th>\n",
              "      <td>PaymentMethod</td>\n",
              "      <td>[Electronic check, Credit card (automatic), Ba...</td>\n",
              "    </tr>\n",
              "    <tr>\n",
              "      <th>7</th>\n",
              "      <td>Partner</td>\n",
              "      <td>[Yes, No]</td>\n",
              "    </tr>\n",
              "    <tr>\n",
              "      <th>8</th>\n",
              "      <td>PaperlessBilling</td>\n",
              "      <td>[Yes, No]</td>\n",
              "    </tr>\n",
              "    <tr>\n",
              "      <th>9</th>\n",
              "      <td>OnlineSecurity</td>\n",
              "      <td>[No, No internet service, Yes]</td>\n",
              "    </tr>\n",
              "    <tr>\n",
              "      <th>10</th>\n",
              "      <td>OnlineBackup</td>\n",
              "      <td>[Yes, No, No internet service]</td>\n",
              "    </tr>\n",
              "    <tr>\n",
              "      <th>11</th>\n",
              "      <td>MultipleLines</td>\n",
              "      <td>[Yes, No, No phone service]</td>\n",
              "    </tr>\n",
              "    <tr>\n",
              "      <th>12</th>\n",
              "      <td>InternetService</td>\n",
              "      <td>[DSL, Fiber optic, No]</td>\n",
              "    </tr>\n",
              "    <tr>\n",
              "      <th>13</th>\n",
              "      <td>DeviceProtection</td>\n",
              "      <td>[No, No internet service, Yes]</td>\n",
              "    </tr>\n",
              "    <tr>\n",
              "      <th>14</th>\n",
              "      <td>Dependents</td>\n",
              "      <td>[Yes, No]</td>\n",
              "    </tr>\n",
              "    <tr>\n",
              "      <th>15</th>\n",
              "      <td>Contract</td>\n",
              "      <td>[One year, Month-to-month, Two year]</td>\n",
              "    </tr>\n",
              "    <tr>\n",
              "      <th>16</th>\n",
              "      <td>Churn</td>\n",
              "      <td>[0, 1]</td>\n",
              "    </tr>\n",
              "  </tbody>\n",
              "</table>\n",
              "</div>"
            ],
            "text/plain": [
              "            Features                                             Values\n",
              "0             gender                                     [Male, Female]\n",
              "1        TechSupport                     [Yes, No, No internet service]\n",
              "2        StreamingTV                     [Yes, No internet service, No]\n",
              "3    StreamingMovies                     [No, No internet service, Yes]\n",
              "4      SeniorCitizen                                             [0, 1]\n",
              "5       PhoneService                                          [Yes, No]\n",
              "6      PaymentMethod  [Electronic check, Credit card (automatic), Ba...\n",
              "7            Partner                                          [Yes, No]\n",
              "8   PaperlessBilling                                          [Yes, No]\n",
              "9     OnlineSecurity                     [No, No internet service, Yes]\n",
              "10      OnlineBackup                     [Yes, No, No internet service]\n",
              "11     MultipleLines                        [Yes, No, No phone service]\n",
              "12   InternetService                             [DSL, Fiber optic, No]\n",
              "13  DeviceProtection                     [No, No internet service, Yes]\n",
              "14        Dependents                                          [Yes, No]\n",
              "15          Contract               [One year, Month-to-month, Two year]\n",
              "16             Churn                                             [0, 1]"
            ]
          },
          "metadata": {
            "tags": []
          },
          "execution_count": 6
        }
      ]
    },
    {
      "cell_type": "code",
      "metadata": {
        "id": "aNueSN3r1mGB"
      },
      "source": [
        "# save one-hot-encoding data into data_ohe for modeling part\n",
        "categorical_features = data.select_dtypes(include=['object'])\n",
        "categorical_features_one_hot = pd.get_dummies(categorical_features,drop_first=True)\n",
        "numerical_features =  data.select_dtypes(exclude=['object'])\n",
        "data_ohe = pd.concat([numerical_features, categorical_features_one_hot], axis=1)"
      ],
      "execution_count": null,
      "outputs": []
    },
    {
      "cell_type": "code",
      "metadata": {
        "id": "iSGqn7WcvqH5"
      },
      "source": [
        "#demographic info\n",
        "data['gender']=data.gender.replace(to_replace=['Female', 'Male'], value=[0, 1])\n",
        "data['Partner']=data['Partner'].replace({'No': 0, 'Yes': 1})\n",
        "data['Dependents']=data['Dependents'].replace({'No': 0, 'Yes': 1})\n",
        "\n",
        "#phone service\n",
        "data['PhoneService']=data['PhoneService'].replace({'No': 0, 'Yes': 1})\n",
        "data['MultipleLines']=data['MultipleLines'].replace({'No phone service': 0, 'No': 1,'Yes':2})\n",
        "\n",
        "#internet service\n",
        "data['InternetService']=data['InternetService'].replace({'No': 0, 'DSL': 1,'Fiber optic':2})\n",
        "data['OnlineSecurity']=data['OnlineSecurity'].replace({'No internet service': 0, 'No': 1,'Yes':2})\n",
        "data['OnlineBackup']=data['OnlineBackup'].replace({'No internet service': 0, 'No': 1,'Yes':2})\n",
        "data['DeviceProtection']=data['DeviceProtection'].replace({'No internet service': 0, 'No': 1,'Yes':2})\n",
        "data['TechSupport']=data['TechSupport'].replace({'No internet service': 0, 'No': 1,'Yes':2})\n",
        "data['StreamingTV']=data['StreamingTV'].replace({'No internet service': 0, 'No': 1,'Yes':2})\n",
        "data['StreamingMovies']=data['StreamingMovies'].replace({'No internet service': 0, 'No': 1,'Yes':2})\n",
        "\n",
        "#customer account\n",
        "data['PaymentMethod']=data['PaymentMethod'].replace({'Mailed check': 0, 'Electronic check': 1,'Bank transfer (automatic)':2,'Credit card (automatic)':3})\n",
        "data['PaperlessBilling']=data['PaperlessBilling'].replace({'No': 0, 'Yes': 1})\n",
        "data['Contract']=data['Contract'].replace({'Month-to-month': 0, 'One year': 1,'Two year':2})\n"
      ],
      "execution_count": null,
      "outputs": []
    },
    {
      "cell_type": "markdown",
      "metadata": {
        "id": "A6QdewyVXqHY"
      },
      "source": [
        "\n",
        "#EDA Part1: Demographics Analysis(gender, age, partners, dependents)\n",
        "\n"
      ]
    },
    {
      "cell_type": "code",
      "metadata": {
        "colab": {
          "base_uri": "https://localhost:8080/"
        },
        "id": "uHr0IrrtggcG",
        "outputId": "9b2ebb14-6b61-4126-88e0-d6bdcf58ff22"
      },
      "source": [
        "data['gender'].describe()"
      ],
      "execution_count": null,
      "outputs": [
        {
          "output_type": "execute_result",
          "data": {
            "text/plain": [
              "count     4930\n",
              "unique       2\n",
              "top       Male\n",
              "freq      2545\n",
              "Name: gender, dtype: object"
            ]
          },
          "metadata": {
            "tags": []
          },
          "execution_count": 25
        }
      ]
    },
    {
      "cell_type": "markdown",
      "metadata": {
        "id": "LfFrFJU_gyDC"
      },
      "source": [
        "For XYZ company, its clients are evenly distributed between male and female because each takes around 50%."
      ]
    },
    {
      "cell_type": "code",
      "metadata": {
        "colab": {
          "base_uri": "https://localhost:8080/"
        },
        "id": "zlvGcxHXqfvY",
        "outputId": "d668bedf-250a-45a5-ea19-91a725a5d048"
      },
      "source": [
        "data['SeniorCitizen'].value_counts()"
      ],
      "execution_count": null,
      "outputs": [
        {
          "output_type": "execute_result",
          "data": {
            "text/plain": [
              "0    4140\n",
              "1     790\n",
              "Name: SeniorCitizen, dtype: int64"
            ]
          },
          "metadata": {
            "tags": []
          },
          "execution_count": 53
        }
      ]
    },
    {
      "cell_type": "code",
      "metadata": {
        "colab": {
          "base_uri": "https://localhost:8080/"
        },
        "id": "iQNKqH5VuKWa",
        "outputId": "fa067c18-b5d1-41fc-ebbe-65ad687ce3f3"
      },
      "source": [
        "data['SeniorCitizen'].value_counts()[1]/data.shape[0]"
      ],
      "execution_count": null,
      "outputs": [
        {
          "output_type": "execute_result",
          "data": {
            "text/plain": [
              "0.16024340770791076"
            ]
          },
          "metadata": {
            "tags": []
          },
          "execution_count": 10
        }
      ]
    },
    {
      "cell_type": "code",
      "metadata": {
        "colab": {
          "base_uri": "https://localhost:8080/"
        },
        "id": "Jbl2wdpmXqHY",
        "outputId": "4829c3bc-ad7e-4dd5-a100-b6c7e488866b"
      },
      "source": [
        "data['Partner'].describe()\n",
        "data['Partner'].value_counts()\n",
        "partnered=data['Partner'].value_counts()[1]\n",
        "single=data['Partner'].value_counts()[0]\n",
        "print('The partnered clients percentage is {:.2%}'.format(partnered/(partnered+single)))\n",
        "print('The single clients percentage is {:.2%}'.format(single/(partnered+single)))"
      ],
      "execution_count": null,
      "outputs": [
        {
          "output_type": "stream",
          "text": [
            "The partnered clients percentage is 48.52%\n",
            "The single clients percentage is 51.48%\n"
          ],
          "name": "stdout"
        }
      ]
    },
    {
      "cell_type": "code",
      "metadata": {
        "colab": {
          "base_uri": "https://localhost:8080/"
        },
        "id": "SVbH3O8GXqHa",
        "outputId": "d7c54d4e-af4d-41dc-8e52-91c276d4de34"
      },
      "source": [
        "data['Dependents'].value_counts()"
      ],
      "execution_count": null,
      "outputs": [
        {
          "output_type": "execute_result",
          "data": {
            "text/plain": [
              "No     3439\n",
              "Yes    1491\n",
              "Name: Dependents, dtype: int64"
            ]
          },
          "metadata": {
            "tags": []
          },
          "execution_count": 62
        }
      ]
    },
    {
      "cell_type": "code",
      "metadata": {
        "colab": {
          "base_uri": "https://localhost:8080/"
        },
        "id": "q8IzCNUeux82",
        "outputId": "e97ccf14-c83c-4ab5-e53a-62706786f082"
      },
      "source": [
        "data['Dependents'].value_counts()[1]/data.shape[0]"
      ],
      "execution_count": null,
      "outputs": [
        {
          "output_type": "execute_result",
          "data": {
            "text/plain": [
              "0.3024340770791075"
            ]
          },
          "metadata": {
            "tags": []
          },
          "execution_count": 68
        }
      ]
    },
    {
      "cell_type": "code",
      "metadata": {
        "colab": {
          "base_uri": "https://localhost:8080/"
        },
        "id": "0rvtsgSIsc5x",
        "outputId": "91667fc0-a781-4ae1-8658-e7716b1935db"
      },
      "source": [
        "#SeniorCitizen vs Dependents\n",
        "ds_table=data[['Dependents','SeniorCitizen']].value_counts()\n",
        "ds_table"
      ],
      "execution_count": null,
      "outputs": [
        {
          "output_type": "execute_result",
          "data": {
            "text/plain": [
              "Dependents  SeniorCitizen\n",
              "0           0                2707\n",
              "1           0                1433\n",
              "0           1                 732\n",
              "1           1                  58\n",
              "dtype: int64"
            ]
          },
          "metadata": {
            "tags": []
          },
          "execution_count": 12
        }
      ]
    },
    {
      "cell_type": "code",
      "metadata": {
        "colab": {
          "base_uri": "https://localhost:8080/"
        },
        "id": "fZ0SICKRwNod",
        "outputId": "85373511-cfd6-443d-ae7e-84526f59f3ca"
      },
      "source": [
        "# (senior citizen with depended)/(all senior citizen)\n",
        "ds_table[1][1]/data['SeniorCitizen'].value_counts()[1]"
      ],
      "execution_count": null,
      "outputs": [
        {
          "output_type": "execute_result",
          "data": {
            "text/plain": [
              "0.07341772151898734"
            ]
          },
          "metadata": {
            "tags": []
          },
          "execution_count": 13
        }
      ]
    },
    {
      "cell_type": "markdown",
      "metadata": {
        "id": "llFg5vJtxgNI"
      },
      "source": [
        "There are around 7% of senior citizens still have dependent(s). These group are highly possible to be of poverty. It's worth diving deep on latter analysis."
      ]
    },
    {
      "cell_type": "code",
      "metadata": {
        "colab": {
          "base_uri": "https://localhost:8080/"
        },
        "id": "q_Kl9yquscrx",
        "outputId": "2e8db7b6-3ee8-4d81-c4db-744c94394202"
      },
      "source": [
        "#Partner vs Dependents\n",
        "pd_table=data[['Partner','Dependents']].value_counts()\n",
        "pd_table"
      ],
      "execution_count": null,
      "outputs": [
        {
          "output_type": "execute_result",
          "data": {
            "text/plain": [
              "Partner  Dependents\n",
              "0        0             2279\n",
              "1        1             1232\n",
              "         0             1160\n",
              "0        1              259\n",
              "dtype: int64"
            ]
          },
          "metadata": {
            "tags": []
          },
          "execution_count": 14
        }
      ]
    },
    {
      "cell_type": "markdown",
      "metadata": {
        "id": "Z4SySRqZb1Fy"
      },
      "source": [
        "As we can see, for those who are partnered, around half of them have dependents.\n",
        "Around 54% of the clients have at least one family member(partner/dependent)."
      ]
    },
    {
      "cell_type": "code",
      "metadata": {
        "colab": {
          "base_uri": "https://localhost:8080/"
        },
        "id": "vrm8WjXgyvKx",
        "outputId": "a3fbdedd-f924-4dd3-d9bc-fcca740f8883"
      },
      "source": [
        "#gender vs Dependents\n",
        "data[['gender','Dependents']].value_counts()"
      ],
      "execution_count": null,
      "outputs": [
        {
          "output_type": "execute_result",
          "data": {
            "text/plain": [
              "gender  Dependents\n",
              "1       0             1770\n",
              "0       0             1669\n",
              "1       1              775\n",
              "0       1              716\n",
              "dtype: int64"
            ]
          },
          "metadata": {
            "tags": []
          },
          "execution_count": 8
        }
      ]
    },
    {
      "cell_type": "markdown",
      "metadata": {
        "id": "7a2KwCIAGCyG"
      },
      "source": [
        "# EDA Part 2: Services Analysis(phone, multiple lines, internet, online security, online backup, device protection, tech support, and streaming TV and movies)"
      ]
    },
    {
      "cell_type": "code",
      "metadata": {
        "colab": {
          "base_uri": "https://localhost:8080/"
        },
        "id": "Btj-n2LpXqHc",
        "outputId": "a722cea3-2bc4-4990-8418-2e791c6f6eca"
      },
      "source": [
        "print(\"# of Phone Service provided: \",data['PhoneService'].sum())\n",
        "print(\"% of Phone Service provided:  {:.2%}\".format(data['PhoneService'].sum()/data.shape[0]))\n",
        "print(\"# of Internet Service provided: \",sum([1 for v in data['InternetService'] if v==1 or v==2]))\n",
        "print(\"% of Internet Service provided:  {:.2%}\".format(sum([1 for v in data['InternetService'] if v==1 or v==2])/data.shape[0]))\n"
      ],
      "execution_count": null,
      "outputs": [
        {
          "output_type": "stream",
          "text": [
            "# of Phone Service provided:  4463\n",
            "% of Phone Service provided:  90.53%\n",
            "# of Internet Service provided:  3853\n",
            "% of Internet Service provided:  78.15%\n"
          ],
          "name": "stdout"
        }
      ]
    },
    {
      "cell_type": "code",
      "metadata": {
        "colab": {
          "base_uri": "https://localhost:8080/",
          "height": 202
        },
        "id": "PQ9arFAJSMLV",
        "outputId": "00d29fba-94dc-449f-da0d-6f6f59e43db5"
      },
      "source": [
        "pie_table=data.groupby(['PhoneService','InternetService']).count().iloc[:,:1]\n",
        "pie_table"
      ],
      "execution_count": null,
      "outputs": [
        {
          "output_type": "execute_result",
          "data": {
            "text/html": [
              "<div>\n",
              "<style scoped>\n",
              "    .dataframe tbody tr th:only-of-type {\n",
              "        vertical-align: middle;\n",
              "    }\n",
              "\n",
              "    .dataframe tbody tr th {\n",
              "        vertical-align: top;\n",
              "    }\n",
              "\n",
              "    .dataframe thead th {\n",
              "        text-align: right;\n",
              "    }\n",
              "</style>\n",
              "<table border=\"1\" class=\"dataframe\">\n",
              "  <thead>\n",
              "    <tr style=\"text-align: right;\">\n",
              "      <th></th>\n",
              "      <th></th>\n",
              "      <th>gender</th>\n",
              "    </tr>\n",
              "    <tr>\n",
              "      <th>PhoneService</th>\n",
              "      <th>InternetService</th>\n",
              "      <th></th>\n",
              "    </tr>\n",
              "  </thead>\n",
              "  <tbody>\n",
              "    <tr>\n",
              "      <th>0</th>\n",
              "      <th>1</th>\n",
              "      <td>467</td>\n",
              "    </tr>\n",
              "    <tr>\n",
              "      <th rowspan=\"3\" valign=\"top\">1</th>\n",
              "      <th>0</th>\n",
              "      <td>1077</td>\n",
              "    </tr>\n",
              "    <tr>\n",
              "      <th>1</th>\n",
              "      <td>1227</td>\n",
              "    </tr>\n",
              "    <tr>\n",
              "      <th>2</th>\n",
              "      <td>2159</td>\n",
              "    </tr>\n",
              "  </tbody>\n",
              "</table>\n",
              "</div>"
            ],
            "text/plain": [
              "                              gender\n",
              "PhoneService InternetService        \n",
              "0            1                   467\n",
              "1            0                  1077\n",
              "             1                  1227\n",
              "             2                  2159"
            ]
          },
          "metadata": {
            "tags": []
          },
          "execution_count": 15
        }
      ]
    },
    {
      "cell_type": "code",
      "metadata": {
        "colab": {
          "base_uri": "https://localhost:8080/",
          "height": 336
        },
        "id": "TK0LiCaWnXrh",
        "outputId": "ef953551-26c8-415f-d60d-34b575074714"
      },
      "source": [
        "pie,ax=plt.subplots(figsize=[6,4])\n",
        "labels=['No Phone& DSL','Phone& No Internet',\"Phone& Fiber Optic\",'Phone& DSL']\n",
        "plt.pie(x=pie_table,autopct='%.2f%%',explode=[0.01,0.07,0.01,0.01],labels=labels,pctdistance=0.5)\n",
        "plt.title('Phone Service V.S. Internet Service')"
      ],
      "execution_count": null,
      "outputs": [
        {
          "output_type": "stream",
          "text": [
            "/usr/local/lib/python3.6/dist-packages/ipykernel_launcher.py:3: MatplotlibDeprecationWarning: Non-1D inputs to pie() are currently squeeze()d, but this behavior is deprecated since 3.1 and will be removed in 3.3; pass a 1D array instead.\n",
            "  This is separate from the ipykernel package so we can avoid doing imports until\n"
          ],
          "name": "stderr"
        },
        {
          "output_type": "execute_result",
          "data": {
            "text/plain": [
              "Text(0.5, 1.0, 'Phone Service V.S. Internet Service')"
            ]
          },
          "metadata": {
            "tags": []
          },
          "execution_count": 225
        },
        {
          "output_type": "display_data",
          "data": {
            "image/png": "[encoded data removed]",
            "text/plain": [
              "<Figure size 432x288 with 1 Axes>"
            ]
          },
          "metadata": {
            "tags": []
          }
        }
      ]
    },
    {
      "cell_type": "markdown",
      "metadata": {
        "id": "PP5t8kU2sMJ_"
      },
      "source": [
        "From the pie chart, around 70% of the entire clients use both phone and internet service. We also can notice that there 21.85% of phone users who does not use internet from XYZ company. Also 9.47% of the clients only use DSL internet service. This might because the company only allow non-phone user to sign up for DSL plan, and Fiber optic internet is exclusive for phone user. Marketing strategies is suggested to target on those who only sign up for one service."
      ]
    },
    {
      "cell_type": "markdown",
      "metadata": {
        "id": "DdlVQWiYunFP"
      },
      "source": [
        ">  A closer look at the phone service user.\n",
        "\n",
        "\n",
        "\n"
      ]
    },
    {
      "cell_type": "code",
      "metadata": {
        "colab": {
          "base_uri": "https://localhost:8080/"
        },
        "id": "BKrC-GOTnXVQ",
        "outputId": "c319948d-0cd7-4eea-a205-e39f297190df"
      },
      "source": [
        "#an overview on percentage of multi/single line users\n",
        "phone_table=data[['PhoneService','MultipleLines']]\n",
        "# internet_table=data[['InternetService','OnlineSecurity','OnlineBackup', 'DeviceProtection', 'TechSupport', 'StreamingTV','StreamingMovies']]\n",
        "multi_line=(phone_table.MultipleLines==2).astype(int).sum()/phone_table.PhoneService.sum()\n",
        "single_line=1-multi_line\n",
        "print('{:.2%} of the phone clients have multiple phone lines.'.format(multi_line))\n",
        "print('{:.2%} of the phone clients have single phone lines.'.format(single_line))"
      ],
      "execution_count": null,
      "outputs": [
        {
          "output_type": "stream",
          "text": [
            "47.41% of the phone clients have multiple phone lines.\n",
            "52.59% of the phone clients have single phone lines.\n"
          ],
          "name": "stdout"
        }
      ]
    },
    {
      "cell_type": "code",
      "metadata": {
        "colab": {
          "base_uri": "https://localhost:8080/",
          "height": 202
        },
        "id": "goDeWMqqtWRT",
        "outputId": "4ad629cf-75e7-4425-f5fe-a7803daca739"
      },
      "source": [
        "#how many clients with family but only use ONE line?\n",
        "line_table=data[['PhoneService','MultipleLines','Dependents','Partner']]\n",
        "#remove non-phone user\n",
        "line_table=line_table[line_table['PhoneService']==1]\n",
        "line_table['SingleLine']=(line_table['MultipleLines']!=2).astype(int)\n",
        "line_summary=line_table.groupby(['Dependents','Partner']).sum()\n",
        "line_summary"
      ],
      "execution_count": null,
      "outputs": [
        {
          "output_type": "execute_result",
          "data": {
            "text/html": [
              "<div>\n",
              "<style scoped>\n",
              "    .dataframe tbody tr th:only-of-type {\n",
              "        vertical-align: middle;\n",
              "    }\n",
              "\n",
              "    .dataframe tbody tr th {\n",
              "        vertical-align: top;\n",
              "    }\n",
              "\n",
              "    .dataframe thead th {\n",
              "        text-align: right;\n",
              "    }\n",
              "</style>\n",
              "<table border=\"1\" class=\"dataframe\">\n",
              "  <thead>\n",
              "    <tr style=\"text-align: right;\">\n",
              "      <th></th>\n",
              "      <th></th>\n",
              "      <th>PhoneService</th>\n",
              "      <th>MultipleLines</th>\n",
              "      <th>SingleLine</th>\n",
              "    </tr>\n",
              "    <tr>\n",
              "      <th>Dependents</th>\n",
              "      <th>Partner</th>\n",
              "      <th></th>\n",
              "      <th></th>\n",
              "      <th></th>\n",
              "    </tr>\n",
              "  </thead>\n",
              "  <tbody>\n",
              "    <tr>\n",
              "      <th rowspan=\"2\" valign=\"top\">0</th>\n",
              "      <th>0</th>\n",
              "      <td>2052</td>\n",
              "      <td>2870</td>\n",
              "      <td>1234</td>\n",
              "    </tr>\n",
              "    <tr>\n",
              "      <th>1</th>\n",
              "      <td>1068</td>\n",
              "      <td>1744</td>\n",
              "      <td>392</td>\n",
              "    </tr>\n",
              "    <tr>\n",
              "      <th rowspan=\"2\" valign=\"top\">1</th>\n",
              "      <th>0</th>\n",
              "      <td>228</td>\n",
              "      <td>308</td>\n",
              "      <td>148</td>\n",
              "    </tr>\n",
              "    <tr>\n",
              "      <th>1</th>\n",
              "      <td>1115</td>\n",
              "      <td>1657</td>\n",
              "      <td>573</td>\n",
              "    </tr>\n",
              "  </tbody>\n",
              "</table>\n",
              "</div>"
            ],
            "text/plain": [
              "                    PhoneService  MultipleLines  SingleLine\n",
              "Dependents Partner                                         \n",
              "0          0                2052           2870        1234\n",
              "           1                1068           1744         392\n",
              "1          0                 228            308         148\n",
              "           1                1115           1657         573"
            ]
          },
          "metadata": {
            "tags": []
          },
          "execution_count": 22
        }
      ]
    },
    {
      "cell_type": "code",
      "metadata": {
        "colab": {
          "base_uri": "https://localhost:8080/"
        },
        "id": "vRDGLdXwtWNK",
        "outputId": "394d1272-5ef8-42d7-e8a6-47fd066b6ff1"
      },
      "source": [
        "#For those clients with famliy:\n",
        "#calculate percentage of single line over dependents0 partner1\n",
        "d0p1=line_summary.iloc[1,2]/line_summary.iloc[1,0]\n",
        "print('single-line % on clients with NO dependent with    partner {:.2%} @ {}'.format(d0p1,line_summary.iloc[1,2]))\n",
        "#calculate percentage of single line over dependents1 partner0\n",
        "d1p0=line_summary.iloc[2,2]/line_summary.iloc[2,0]\n",
        "print('single-line % on clients with    dependent with NO partner {:.2%} @ {}'.format(d1p0,line_summary.iloc[2,2]))\n",
        "#calculate percentage of single line over dependents1 partner1\n",
        "d1p1=line_summary.iloc[3,2]/line_summary.iloc[3,0]\n",
        "print('single-line % on clients with    dependent with    partner {:.2%} @ {}'.format(d1p1,line_summary.iloc[3,2]))\n"
      ],
      "execution_count": null,
      "outputs": [
        {
          "output_type": "stream",
          "text": [
            "single-line % on clients with NO dependent with    partner 36.70% @ 392\n",
            "single-line % on clients with    dependent with NO partner 64.91% @ 148\n",
            "single-line % on clients with    dependent with    partner 51.39% @ 573\n"
          ],
          "name": "stdout"
        }
      ]
    },
    {
      "cell_type": "markdown",
      "metadata": {
        "id": "YBRZM_pO8D3u"
      },
      "source": [
        "From these percentage, there are some potential custmers for family size greater than 1. Especially those who are partnered, there are 965(=392+573) customers that's an incremental of 21.62%(=965/4463) of the entire phone services clients."
      ]
    },
    {
      "cell_type": "markdown",
      "metadata": {
        "id": "0vL1YanU8X4R"
      },
      "source": [
        "\n",
        "\n",
        "> A closer look at internet service clients\n",
        "\n"
      ]
    },
    {
      "cell_type": "code",
      "metadata": {
        "colab": {
          "base_uri": "https://localhost:8080/",
          "height": 377
        },
        "id": "68zGyFFStWAk",
        "outputId": "6e4d5412-a527-4a2b-81a9-b189eb364880"
      },
      "source": [
        "#percent stacked barplot on all internet services \n",
        "#data in percentage\n",
        "inte_totl=data[data['InternetService']!=0].shape[0]\n",
        "# calculate % of whom have no internet add-ons \n",
        "zeros=np.array([(data['OnlineSecurity']==1).astype(int).sum()/inte_totl,\\\n",
        "       (data['OnlineBackup']==1).astype(int).sum()/inte_totl,\\\n",
        "       (data['DeviceProtection']==1).astype(int).sum()/inte_totl,\\\n",
        "       (data['TechSupport']==1).astype(int).sum()/inte_totl,\\\n",
        "       (data['StreamingTV']==1).astype(int).sum()/inte_totl,\\\n",
        "       (data['StreamingMovies']==1).astype(int).sum()/inte_totl])\n",
        "ones=1-zeros\n",
        "\n",
        "# bar_tab_data={'OnlineSecurity':data['OnlineSecurity']==}\n",
        "#plot\n",
        "r=[0,1,2,3,4,5]\n",
        "barWidth=0.85\n",
        "labels=['OnlineSecurity','OnlineBackup','DeviceProection','TechSupport','StreamingTV','StreamingMovies']\n",
        "#create green bar\n",
        "plt.bar(r,zeros,color='#b5ffb9', edgecolor='white', width=barWidth)\n",
        "#create blue bar\n",
        "plt.bar(r,ones,bottom=zeros,color='#a3acff', edgecolor='white', width=barWidth)\n",
        "\n",
        "plt.xticks(rotation=70)\n",
        "plt.xticks(r,labels)\n",
        "import matplotlib.patches as mpatches\n",
        "green_patch=mpatches.Patch(color='#b5ffb9')\n",
        "blue_patch=mpatches.Patch(color='#a3acff')\n",
        "plt.legend([green_patch,blue_patch],labels=['not subscibed','subscribed'])\n",
        "plt.plot([0.5]*6,'r--')\n",
        "plt.show()"
      ],
      "execution_count": null,
      "outputs": [
        {
          "output_type": "stream",
          "text": [
            "/usr/local/lib/python3.6/dist-packages/ipykernel_launcher.py:23: UserWarning: You have mixed positional and keyword arguments, some input may be discarded.\n"
          ],
          "name": "stderr"
        },
        {
          "output_type": "display_data",
          "data": {
            "image/png": "[encoded data removed]",
            "text/plain": [
              "<Figure size 432x288 with 1 Axes>"
            ]
          },
          "metadata": {
            "tags": []
          }
        }
      ]
    },
    {
      "cell_type": "markdown",
      "metadata": {
        "id": "KYEf6sHKEjuQ"
      },
      "source": [
        "All the additional internet services did not exceed 50% of subscription. Among these add-ons, Tech Support and Online Security are the two of lowest subsription rate at 37%. It might be these two add-ons are not widely used, more attracting/useful contents may be introduced under these two categories. \n",
        "\n",
        "Streaming movie and TV are the highest of subscriptions at around 50%."
      ]
    },
    {
      "cell_type": "code",
      "metadata": {
        "colab": {
          "base_uri": "https://localhost:8080/",
          "height": 265
        },
        "id": "-cZZj5hWrybZ",
        "outputId": "d8995bef-c80e-4eba-9f9f-167b5dc4c5e8"
      },
      "source": [
        "#add-on services between Fiber Optic users and DSL users\n",
        "# the fiber optic client group\n",
        "fiber_group=data[data['InternetService']==2]\n",
        "ttl_fiber=fiber_group.shape[0]\n",
        "# % of add-ons subscriptions on Fiber Optic group\n",
        "fiber_opt=np.array([(fiber_group['OnlineSecurity']==2).astype(int).sum()/ttl_fiber,\\\n",
        "       (fiber_group['OnlineBackup']==2).astype(int).sum()/ttl_fiber,\\\n",
        "       (fiber_group['DeviceProtection']==2).astype(int).sum()/ttl_fiber,\\\n",
        "       (fiber_group['TechSupport']==2).astype(int).sum()/ttl_fiber,\\\n",
        "       (fiber_group['StreamingTV']==2).astype(int).sum()/ttl_fiber,\\\n",
        "       (fiber_group['StreamingMovies']==2).astype(int).sum()/ttl_fiber])\n",
        "\n",
        "# the DSL client group\n",
        "dsl_group=data[data['InternetService']==1]\n",
        "ttl_dsl=dsl_group.shape[0]\n",
        "# % of add-ons subscriptions on  group\n",
        "dsl=np.array([(dsl_group['OnlineSecurity']==2).astype(int).sum()/ttl_dsl,\\\n",
        "       (dsl_group['OnlineBackup']==2).astype(int).sum()/ttl_dsl,\\\n",
        "       (dsl_group['DeviceProtection']==2).astype(int).sum()/ttl_dsl,\\\n",
        "       (dsl_group['TechSupport']==2).astype(int).sum()/ttl_dsl,\\\n",
        "       (dsl_group['StreamingTV']==2).astype(int).sum()/ttl_dsl,\\\n",
        "       (dsl_group['StreamingMovies']==2).astype(int).sum()/ttl_dsl])\n",
        "\n",
        "\n",
        "\n",
        "\n",
        "index=['OnlineSecurity','OnlineBackup','DeviceProtection','TechSupport','StreamingTV','StreamingMovies']\n",
        "df=pd.DataFrame({'FiberOpt':fiber_opt,'DSL':dsl},index=index)\n",
        "ax=df.plot.barh(color=['green','orange'])\n",
        "\n",
        "# percentage label for fiber optic(green),and DSL(orange)\n",
        "for i, v in enumerate(fiber_opt):\n",
        "    ax.text(v, i, \"{:.2%}\".format(v), color='white', fontweight='bold',horizontalalignment='right',verticalalignment='top')\n",
        "  \n",
        "for j, k in enumerate(dsl):\n",
        "    ax.text(k, j, \"{:.2%}\".format(k), color='black',horizontalalignment='right',verticalalignment='bottom')"
      ],
      "execution_count": null,
      "outputs": [
        {
          "output_type": "display_data",
          "data": {
            "image/png": "[encoded data removed]",
            "text/plain": [
              "<Figure size 432x288 with 1 Axes>"
            ]
          },
          "metadata": {
            "tags": []
          }
        }
      ]
    },
    {
      "cell_type": "markdown",
      "metadata": {
        "id": "rJUMBQGXQDKC"
      },
      "source": [
        "(Fact: Fiber Optic has much faster internet speed than DSL. And Fiber Optic usually is more expensive.)\n",
        "\n",
        "One interesting user habit comparison between Fiber Optic and DSL is that Fiber Optic subscribers have significant demand on entertainment(Movie and TV) consumption. \n",
        "\n",
        "Around half of the DSL client group subscribe Tech Support and Online Security, while Fiber Optic group only have less than 30% subscription rate.\n"
      ]
    },
    {
      "cell_type": "markdown",
      "metadata": {
        "id": "kaQIwEJJTgc8"
      },
      "source": [
        "# EDA PART3: Customer account information analysis– tenure(how long they’ve been a customer), contract, payment method, paperless billing, monthly charges, and total charges"
      ]
    },
    {
      "cell_type": "code",
      "metadata": {
        "colab": {
          "base_uri": "https://localhost:8080/",
          "height": 202
        },
        "id": "pC25FRPDryXB",
        "outputId": "8b6f36d1-5012-421b-9efe-04415775eb14"
      },
      "source": [
        "data[['tenure','Contract','PaperlessBilling','PaymentMethod','MonthlyCharges','TotalCharges']].head()"
      ],
      "execution_count": null,
      "outputs": [
        {
          "output_type": "execute_result",
          "data": {
            "text/html": [
              "<div>\n",
              "<style scoped>\n",
              "    .dataframe tbody tr th:only-of-type {\n",
              "        vertical-align: middle;\n",
              "    }\n",
              "\n",
              "    .dataframe tbody tr th {\n",
              "        vertical-align: top;\n",
              "    }\n",
              "\n",
              "    .dataframe thead th {\n",
              "        text-align: right;\n",
              "    }\n",
              "</style>\n",
              "<table border=\"1\" class=\"dataframe\">\n",
              "  <thead>\n",
              "    <tr style=\"text-align: right;\">\n",
              "      <th></th>\n",
              "      <th>tenure</th>\n",
              "      <th>Contract</th>\n",
              "      <th>PaperlessBilling</th>\n",
              "      <th>PaymentMethod</th>\n",
              "      <th>MonthlyCharges</th>\n",
              "      <th>TotalCharges</th>\n",
              "    </tr>\n",
              "  </thead>\n",
              "  <tbody>\n",
              "    <tr>\n",
              "      <th>0</th>\n",
              "      <td>54</td>\n",
              "      <td>1</td>\n",
              "      <td>1</td>\n",
              "      <td>1</td>\n",
              "      <td>70.70</td>\n",
              "      <td>3770.00</td>\n",
              "    </tr>\n",
              "    <tr>\n",
              "      <th>1</th>\n",
              "      <td>1</td>\n",
              "      <td>0</td>\n",
              "      <td>1</td>\n",
              "      <td>1</td>\n",
              "      <td>80.55</td>\n",
              "      <td>80.55</td>\n",
              "    </tr>\n",
              "    <tr>\n",
              "      <th>2</th>\n",
              "      <td>13</td>\n",
              "      <td>1</td>\n",
              "      <td>0</td>\n",
              "      <td>3</td>\n",
              "      <td>19.30</td>\n",
              "      <td>259.65</td>\n",
              "    </tr>\n",
              "    <tr>\n",
              "      <th>3</th>\n",
              "      <td>24</td>\n",
              "      <td>2</td>\n",
              "      <td>1</td>\n",
              "      <td>1</td>\n",
              "      <td>96.55</td>\n",
              "      <td>2263.45</td>\n",
              "    </tr>\n",
              "    <tr>\n",
              "      <th>4</th>\n",
              "      <td>6</td>\n",
              "      <td>0</td>\n",
              "      <td>1</td>\n",
              "      <td>1</td>\n",
              "      <td>74.10</td>\n",
              "      <td>450.90</td>\n",
              "    </tr>\n",
              "  </tbody>\n",
              "</table>\n",
              "</div>"
            ],
            "text/plain": [
              "   tenure  Contract  ...  MonthlyCharges  TotalCharges\n",
              "0      54         1  ...           70.70       3770.00\n",
              "1       1         0  ...           80.55         80.55\n",
              "2      13         1  ...           19.30        259.65\n",
              "3      24         2  ...           96.55       2263.45\n",
              "4       6         0  ...           74.10        450.90\n",
              "\n",
              "[5 rows x 6 columns]"
            ]
          },
          "metadata": {
            "tags": []
          },
          "execution_count": 47
        }
      ]
    },
    {
      "cell_type": "code",
      "metadata": {
        "colab": {
          "base_uri": "https://localhost:8080/",
          "height": 313
        },
        "id": "XHPvDmDTD883",
        "outputId": "0ba592fc-b6e2-4dc7-90f8-decd2f1c14d9"
      },
      "source": [
        "#plot distribution of TotalCharges\n",
        "ttl_charges=data['TotalCharges']\n",
        "ax=ttl_charges.plot(kind='hist',color='c',edgecolor='gray')\n",
        "ttl_charges.plot(kind='kde',ax=ax,secondary_y=True)\n",
        "ax.set_xlabel('Total Charges')\n",
        "ax.set_title('Total Charges Distribution')\n",
        "# mark the mean\n",
        "plt.axvline(ttl_charges.mean(), color='k', linestyle='dashed', linewidth=1)\n",
        "min_ylim, max_ylim = plt.ylim()\n",
        "plt.text(ttl_charges.mean()*1.1, max_ylim*0.9, 'Mean: {:.2f}'.format(ttl_charges.mean()))\n"
      ],
      "execution_count": null,
      "outputs": [
        {
          "output_type": "execute_result",
          "data": {
            "text/plain": [
              "Text(2520.0426310442913, 0.00031384074839791007, 'Mean: 2290.95')"
            ]
          },
          "metadata": {
            "tags": []
          },
          "execution_count": 95
        },
        {
          "output_type": "display_data",
          "data": {
            "image/png": "[encoded data removed]",
            "text/plain": [
              "<Figure size 432x288 with 2 Axes>"
            ]
          },
          "metadata": {
            "tags": []
          }
        }
      ]
    },
    {
      "cell_type": "code",
      "metadata": {
        "colab": {
          "base_uri": "https://localhost:8080/",
          "height": 171
        },
        "id": "3Yg7MtEbryTn",
        "outputId": "5438c7ec-ad5b-4046-dcb9-3b687eddafcb"
      },
      "source": [
        "\n",
        "data[['tenure','Contract','MonthlyCharges','TotalCharges']].corr()"
      ],
      "execution_count": null,
      "outputs": [
        {
          "output_type": "execute_result",
          "data": {
            "text/html": [
              "<div>\n",
              "<style scoped>\n",
              "    .dataframe tbody tr th:only-of-type {\n",
              "        vertical-align: middle;\n",
              "    }\n",
              "\n",
              "    .dataframe tbody tr th {\n",
              "        vertical-align: top;\n",
              "    }\n",
              "\n",
              "    .dataframe thead th {\n",
              "        text-align: right;\n",
              "    }\n",
              "</style>\n",
              "<table border=\"1\" class=\"dataframe\">\n",
              "  <thead>\n",
              "    <tr style=\"text-align: right;\">\n",
              "      <th></th>\n",
              "      <th>tenure</th>\n",
              "      <th>Contract</th>\n",
              "      <th>MonthlyCharges</th>\n",
              "      <th>TotalCharges</th>\n",
              "    </tr>\n",
              "  </thead>\n",
              "  <tbody>\n",
              "    <tr>\n",
              "      <th>tenure</th>\n",
              "      <td>1.000000</td>\n",
              "      <td>0.671392</td>\n",
              "      <td>0.250315</td>\n",
              "      <td>0.826430</td>\n",
              "    </tr>\n",
              "    <tr>\n",
              "      <th>Contract</th>\n",
              "      <td>0.671392</td>\n",
              "      <td>1.000000</td>\n",
              "      <td>-0.068446</td>\n",
              "      <td>0.453783</td>\n",
              "    </tr>\n",
              "    <tr>\n",
              "      <th>MonthlyCharges</th>\n",
              "      <td>0.250315</td>\n",
              "      <td>-0.068446</td>\n",
              "      <td>1.000000</td>\n",
              "      <td>0.652434</td>\n",
              "    </tr>\n",
              "    <tr>\n",
              "      <th>TotalCharges</th>\n",
              "      <td>0.826430</td>\n",
              "      <td>0.453783</td>\n",
              "      <td>0.652434</td>\n",
              "      <td>1.000000</td>\n",
              "    </tr>\n",
              "  </tbody>\n",
              "</table>\n",
              "</div>"
            ],
            "text/plain": [
              "                  tenure  Contract  MonthlyCharges  TotalCharges\n",
              "tenure          1.000000  0.671392        0.250315      0.826430\n",
              "Contract        0.671392  1.000000       -0.068446      0.453783\n",
              "MonthlyCharges  0.250315 -0.068446        1.000000      0.652434\n",
              "TotalCharges    0.826430  0.453783        0.652434      1.000000"
            ]
          },
          "metadata": {
            "tags": []
          },
          "execution_count": 48
        }
      ]
    },
    {
      "cell_type": "markdown",
      "metadata": {
        "id": "ti9qdta_Be9Y"
      },
      "source": [
        "By looking at the datum, we intuitively noticed that TotalCharges=tenure*MonthlyCharges. But after we check, it is not perfect linear correlated, but their correlation is as high as 0.83! We may consider to drop the feature TotalCharge in our model, since it catches the most of the feature as tenure and MonthlyCharges, and we do not want multicolinearity."
      ]
    },
    {
      "cell_type": "code",
      "metadata": {
        "colab": {
          "base_uri": "https://localhost:8080/"
        },
        "id": "3FO1xba-ryIq",
        "outputId": "1e200b70-957a-4458-b3ef-6dbf78d29395"
      },
      "source": [
        "print(\"Contract Type      % of clients\")\n",
        "for x in set(data.Contract.values):\n",
        "  print('{} year(s)          {:.2%}'.format(x,(data['Contract']==x).astype(int).sum()/data.shape[0]))"
      ],
      "execution_count": null,
      "outputs": [
        {
          "output_type": "stream",
          "text": [
            "Contract Type      % of clients\n",
            "0 year(s)          54.56%\n",
            "1 year(s)          21.38%\n",
            "2 year(s)          24.06%\n"
          ],
          "name": "stdout"
        }
      ]
    },
    {
      "cell_type": "code",
      "metadata": {
        "colab": {
          "base_uri": "https://localhost:8080/",
          "height": 418
        },
        "id": "LlfyewmjryFF",
        "outputId": "079b249b-1ff2-404e-8fb4-e46bd66666fa"
      },
      "source": [
        "#SeniorCitizen vs PaymentMethod and PaperlessBilling\n",
        "senior_payment=data[['SeniorCitizen','PaymentMethod']]\n",
        "senior_payment['HeadCount']=1\n",
        "sp=senior_payment.groupby(['SeniorCitizen','PaymentMethod']).count().reset_index()\n",
        "sp['% in group']=np.NaN\n",
        "\n",
        "senior_num=data['SeniorCitizen'].value_counts()[1]\n",
        "young_num=data['SeniorCitizen'].value_counts()[0]\n",
        "\n",
        "#calculate % of PaymentMethod in senior and non-senior group\n",
        "for row in np.arange(sp.shape[0]):\n",
        "    if sp.iloc[row,0]==0:\n",
        "      sp.iloc[row,3]=\"{:.2%}\".format(sp.iloc[row,2]/young_num)\n",
        "    else:\n",
        "      sp.iloc[row,3]=\"{:.2%}\".format(sp.iloc[row,2]/senior_num)\n",
        "\n",
        "sp\n",
        "#Note:{'Mailed check': 0, 'Electronic check': 1,'Bank transfer (automatic)':2,'Credit card (automatic)':3}\n"
      ],
      "execution_count": null,
      "outputs": [
        {
          "output_type": "stream",
          "text": [
            "/usr/local/lib/python3.6/dist-packages/ipykernel_launcher.py:3: SettingWithCopyWarning: \n",
            "A value is trying to be set on a copy of a slice from a DataFrame.\n",
            "Try using .loc[row_indexer,col_indexer] = value instead\n",
            "\n",
            "See the caveats in the documentation: https://pandas.pydata.org/pandas-docs/stable/user_guide/indexing.html#returning-a-view-versus-a-copy\n",
            "  This is separate from the ipykernel package so we can avoid doing imports until\n"
          ],
          "name": "stderr"
        },
        {
          "output_type": "execute_result",
          "data": {
            "text/html": [
              "<div>\n",
              "<style scoped>\n",
              "    .dataframe tbody tr th:only-of-type {\n",
              "        vertical-align: middle;\n",
              "    }\n",
              "\n",
              "    .dataframe tbody tr th {\n",
              "        vertical-align: top;\n",
              "    }\n",
              "\n",
              "    .dataframe thead th {\n",
              "        text-align: right;\n",
              "    }\n",
              "</style>\n",
              "<table border=\"1\" class=\"dataframe\">\n",
              "  <thead>\n",
              "    <tr style=\"text-align: right;\">\n",
              "      <th></th>\n",
              "      <th>SeniorCitizen</th>\n",
              "      <th>PaymentMethod</th>\n",
              "      <th>HeadCount</th>\n",
              "      <th>% in group</th>\n",
              "    </tr>\n",
              "  </thead>\n",
              "  <tbody>\n",
              "    <tr>\n",
              "      <th>0</th>\n",
              "      <td>0</td>\n",
              "      <td>0</td>\n",
              "      <td>1047</td>\n",
              "      <td>25.29%</td>\n",
              "    </tr>\n",
              "    <tr>\n",
              "      <th>1</th>\n",
              "      <td>0</td>\n",
              "      <td>1</td>\n",
              "      <td>1254</td>\n",
              "      <td>30.29%</td>\n",
              "    </tr>\n",
              "    <tr>\n",
              "      <th>2</th>\n",
              "      <td>0</td>\n",
              "      <td>2</td>\n",
              "      <td>924</td>\n",
              "      <td>22.32%</td>\n",
              "    </tr>\n",
              "    <tr>\n",
              "      <th>3</th>\n",
              "      <td>0</td>\n",
              "      <td>3</td>\n",
              "      <td>915</td>\n",
              "      <td>22.10%</td>\n",
              "    </tr>\n",
              "    <tr>\n",
              "      <th>4</th>\n",
              "      <td>1</td>\n",
              "      <td>0</td>\n",
              "      <td>66</td>\n",
              "      <td>8.35%</td>\n",
              "    </tr>\n",
              "    <tr>\n",
              "      <th>5</th>\n",
              "      <td>1</td>\n",
              "      <td>1</td>\n",
              "      <td>412</td>\n",
              "      <td>52.15%</td>\n",
              "    </tr>\n",
              "    <tr>\n",
              "      <th>6</th>\n",
              "      <td>1</td>\n",
              "      <td>2</td>\n",
              "      <td>162</td>\n",
              "      <td>20.51%</td>\n",
              "    </tr>\n",
              "    <tr>\n",
              "      <th>7</th>\n",
              "      <td>1</td>\n",
              "      <td>3</td>\n",
              "      <td>150</td>\n",
              "      <td>18.99%</td>\n",
              "    </tr>\n",
              "  </tbody>\n",
              "</table>\n",
              "</div>"
            ],
            "text/plain": [
              "   SeniorCitizen  PaymentMethod  HeadCount % in group\n",
              "0              0              0       1047     25.29%\n",
              "1              0              1       1254     30.29%\n",
              "2              0              2        924     22.32%\n",
              "3              0              3        915     22.10%\n",
              "4              1              0         66      8.35%\n",
              "5              1              1        412     52.15%\n",
              "6              1              2        162     20.51%\n",
              "7              1              3        150     18.99%"
            ]
          },
          "metadata": {
            "tags": []
          },
          "execution_count": 50
        }
      ]
    },
    {
      "cell_type": "markdown",
      "metadata": {
        "id": "5VJ29M3TQUd-"
      },
      "source": [
        "The electric check(Type 1) payment methos remains prominent between both groups. Surprisingly, senior group has the lowest rate of non-electronic payment method(or Mailed check\\Type 0) only 8%, while younger population still have a quater of population using mailed check."
      ]
    },
    {
      "cell_type": "code",
      "metadata": {
        "colab": {
          "base_uri": "https://localhost:8080/",
          "height": 295
        },
        "id": "8JTCbge6ryB9",
        "outputId": "6b184a90-b89e-4ca1-c70c-2016c2abbf81"
      },
      "source": [
        "#SeniorCitizen vs PaperlessBilling\n",
        "senior_billing=data[['SeniorCitizen','PaperlessBilling']]\n",
        "senior_billing['HeadCount']=1\n",
        "sb=senior_billing.groupby(['SeniorCitizen','PaperlessBilling']).count().reset_index()\n",
        "\n",
        "sb['% in group']=np.NaN\n",
        "\n",
        "#calculate % of billing method in senior and non-senior group\n",
        "for row in np.arange(sb.shape[0]):\n",
        "    if sb.iloc[row,0]==0:\n",
        "      sb.iloc[row,3]=\"{:.2%}\".format(sb.iloc[row,2]/young_num)\n",
        "    else:\n",
        "      sb.iloc[row,3]=\"{:.2%}\".format(sb.iloc[row,2]/senior_num)\n",
        "\n",
        "sb"
      ],
      "execution_count": null,
      "outputs": [
        {
          "output_type": "stream",
          "text": [
            "/usr/local/lib/python3.6/dist-packages/ipykernel_launcher.py:3: SettingWithCopyWarning: \n",
            "A value is trying to be set on a copy of a slice from a DataFrame.\n",
            "Try using .loc[row_indexer,col_indexer] = value instead\n",
            "\n",
            "See the caveats in the documentation: https://pandas.pydata.org/pandas-docs/stable/user_guide/indexing.html#returning-a-view-versus-a-copy\n",
            "  This is separate from the ipykernel package so we can avoid doing imports until\n"
          ],
          "name": "stderr"
        },
        {
          "output_type": "execute_result",
          "data": {
            "text/html": [
              "<div>\n",
              "<style scoped>\n",
              "    .dataframe tbody tr th:only-of-type {\n",
              "        vertical-align: middle;\n",
              "    }\n",
              "\n",
              "    .dataframe tbody tr th {\n",
              "        vertical-align: top;\n",
              "    }\n",
              "\n",
              "    .dataframe thead th {\n",
              "        text-align: right;\n",
              "    }\n",
              "</style>\n",
              "<table border=\"1\" class=\"dataframe\">\n",
              "  <thead>\n",
              "    <tr style=\"text-align: right;\">\n",
              "      <th></th>\n",
              "      <th>SeniorCitizen</th>\n",
              "      <th>PaperlessBilling</th>\n",
              "      <th>HeadCount</th>\n",
              "      <th>% in group</th>\n",
              "    </tr>\n",
              "  </thead>\n",
              "  <tbody>\n",
              "    <tr>\n",
              "      <th>0</th>\n",
              "      <td>0</td>\n",
              "      <td>0</td>\n",
              "      <td>1856</td>\n",
              "      <td>44.83%</td>\n",
              "    </tr>\n",
              "    <tr>\n",
              "      <th>1</th>\n",
              "      <td>0</td>\n",
              "      <td>1</td>\n",
              "      <td>2284</td>\n",
              "      <td>55.17%</td>\n",
              "    </tr>\n",
              "    <tr>\n",
              "      <th>2</th>\n",
              "      <td>1</td>\n",
              "      <td>0</td>\n",
              "      <td>187</td>\n",
              "      <td>23.67%</td>\n",
              "    </tr>\n",
              "    <tr>\n",
              "      <th>3</th>\n",
              "      <td>1</td>\n",
              "      <td>1</td>\n",
              "      <td>603</td>\n",
              "      <td>76.33%</td>\n",
              "    </tr>\n",
              "  </tbody>\n",
              "</table>\n",
              "</div>"
            ],
            "text/plain": [
              "   SeniorCitizen  PaperlessBilling  HeadCount % in group\n",
              "0              0                 0       1856     44.83%\n",
              "1              0                 1       2284     55.17%\n",
              "2              1                 0        187     23.67%\n",
              "3              1                 1        603     76.33%"
            ]
          },
          "metadata": {
            "tags": []
          },
          "execution_count": 55
        }
      ]
    },
    {
      "cell_type": "markdown",
      "metadata": {
        "id": "RKzO0VCqRXfw"
      },
      "source": [
        "For younger people, more than a half chose paper billing, and majority of the senior population still prefer paper billing."
      ]
    },
    {
      "cell_type": "code",
      "metadata": {
        "colab": {
          "base_uri": "https://localhost:8080/",
          "height": 285
        },
        "id": "8pogh3iASA2B",
        "outputId": "b7e585a3-c26c-4225-9b5a-97e9e843eb53"
      },
      "source": [
        "#now let's see the relationship between tenure, contract, churn\n",
        "leave_contract=data[['Churn','Contract','MonthlyCharges']]\n",
        "leave_contract=leave_contract.groupby(['Churn','Contract']).count().reset_index()\n",
        "ttl_client=data.shape[0]\n",
        "print('out-of-contract clients left rate: {:.2%}'.format(leave_contract.iloc[3,2]/ttl_client))\n",
        "print('1-year-contract clients left rate {:.2%}'.format(leave_contract.iloc[4,2]/ttl_client))\n",
        "print('2-year-contract clients left rate: {:.2%}'.format(leave_contract.iloc[5,2]/ttl_client))\n",
        "\n",
        "leave_contract"
      ],
      "execution_count": null,
      "outputs": [
        {
          "output_type": "stream",
          "text": [
            "out-of-contract clients left rate: 23.06%\n",
            "1-year-contract clients left rate 2.58%\n",
            "2-year-contract clients left rate: 0.63%\n"
          ],
          "name": "stdout"
        },
        {
          "output_type": "execute_result",
          "data": {
            "text/html": [
              "<div>\n",
              "<style scoped>\n",
              "    .dataframe tbody tr th:only-of-type {\n",
              "        vertical-align: middle;\n",
              "    }\n",
              "\n",
              "    .dataframe tbody tr th {\n",
              "        vertical-align: top;\n",
              "    }\n",
              "\n",
              "    .dataframe thead th {\n",
              "        text-align: right;\n",
              "    }\n",
              "</style>\n",
              "<table border=\"1\" class=\"dataframe\">\n",
              "  <thead>\n",
              "    <tr style=\"text-align: right;\">\n",
              "      <th></th>\n",
              "      <th>Churn</th>\n",
              "      <th>Contract</th>\n",
              "      <th>MonthlyCharges</th>\n",
              "    </tr>\n",
              "  </thead>\n",
              "  <tbody>\n",
              "    <tr>\n",
              "      <th>0</th>\n",
              "      <td>0</td>\n",
              "      <td>0</td>\n",
              "      <td>1553</td>\n",
              "    </tr>\n",
              "    <tr>\n",
              "      <th>1</th>\n",
              "      <td>0</td>\n",
              "      <td>1</td>\n",
              "      <td>927</td>\n",
              "    </tr>\n",
              "    <tr>\n",
              "      <th>2</th>\n",
              "      <td>0</td>\n",
              "      <td>2</td>\n",
              "      <td>1155</td>\n",
              "    </tr>\n",
              "    <tr>\n",
              "      <th>3</th>\n",
              "      <td>1</td>\n",
              "      <td>0</td>\n",
              "      <td>1137</td>\n",
              "    </tr>\n",
              "    <tr>\n",
              "      <th>4</th>\n",
              "      <td>1</td>\n",
              "      <td>1</td>\n",
              "      <td>127</td>\n",
              "    </tr>\n",
              "    <tr>\n",
              "      <th>5</th>\n",
              "      <td>1</td>\n",
              "      <td>2</td>\n",
              "      <td>31</td>\n",
              "    </tr>\n",
              "  </tbody>\n",
              "</table>\n",
              "</div>"
            ],
            "text/plain": [
              "   Churn  Contract  MonthlyCharges\n",
              "0      0         0            1553\n",
              "1      0         1             927\n",
              "2      0         2            1155\n",
              "3      1         0            1137\n",
              "4      1         1             127\n",
              "5      1         2              31"
            ]
          },
          "metadata": {
            "tags": []
          },
          "execution_count": 56
        }
      ]
    },
    {
      "cell_type": "code",
      "metadata": {
        "colab": {
          "base_uri": "https://localhost:8080/",
          "height": 476
        },
        "id": "OyxDy_YuSAxn",
        "outputId": "a3e44c8b-8c4e-44bf-e0b9-7b88e2fbf008"
      },
      "source": [
        "#analysis in tenure v.s. left clients\n",
        "tenure_counts=data[data['Churn']==1]['tenure'].value_counts()\n",
        "print(tenure_counts.describe())\n",
        "ttl_left=data[data['Churn']==1].shape[0]\n",
        "#split the data in bins\n",
        "interval_range=pd.IntervalIndex.from_tuples([(0,6),(6,12),(12,18),(18,24),(24,30),(30,36),(36,254)])\n",
        "tenure_count_split_data=pd.cut(tenure_counts,bins=interval_range)\n",
        "#change labels\n",
        "map_dict={'(0, 6]':\"<0.5yrs\",'(6, 12]':'<1.0yr','(12, 18]':'<1.5yrs','(18, 24]':'<2.0yrs','(24, 30]':'<2.5yrs','(30, 36]':'<3.0yrs','(36, 254]':'>3yrs'}\n",
        "tenure_count_split_data=tenure_count_split_data.astype(str).replace(map_dict)\n",
        "\n",
        "#the plot data\n",
        "tenure_count_plot_data=tenure_count_split_data.value_counts().sort_index()\n",
        "ax=sns.barplot(tenure_count_plot_data.index,tenure_count_plot_data.values/ttl_left)"
      ],
      "execution_count": null,
      "outputs": [
        {
          "output_type": "stream",
          "text": [
            "count     72.000000\n",
            "mean      17.986111\n",
            "std       31.755888\n",
            "min        1.000000\n",
            "25%        7.000000\n",
            "50%       11.000000\n",
            "75%       16.000000\n",
            "max      254.000000\n",
            "Name: tenure, dtype: float64\n"
          ],
          "name": "stdout"
        },
        {
          "output_type": "stream",
          "text": [
            "/usr/local/lib/python3.6/dist-packages/seaborn/_decorators.py:43: FutureWarning: Pass the following variables as keyword args: x, y. From version 0.12, the only valid positional argument will be `data`, and passing other arguments without an explicit keyword will result in an error or misinterpretation.\n",
            "  FutureWarning\n"
          ],
          "name": "stderr"
        },
        {
          "output_type": "display_data",
          "data": {
            "image/png": "[encoded data removed]",
            "text/plain": [
              "<Figure size 432x288 with 1 Axes>"
            ]
          },
          "metadata": {
            "tags": []
          }
        }
      ]
    },
    {
      "cell_type": "markdown",
      "metadata": {
        "id": "3ID3NyE2p-UU"
      },
      "source": [
        "Most clients left within one year. That being said, if XYZ company can keep the clients for at least one year, the clients are likly to stay in the company for longer time."
      ]
    },
    {
      "cell_type": "markdown",
      "metadata": {
        "id": "23imtW3VrHma"
      },
      "source": [
        "# Preprocessing"
      ]
    },
    {
      "cell_type": "code",
      "metadata": {
        "colab": {
          "base_uri": "https://localhost:8080/",
          "height": 257
        },
        "id": "ilWGJzPdSAtW",
        "outputId": "2a46b517-4e81-44b7-c588-e0d60aee6106"
      },
      "source": [
        "# one hot encoding on categorical data\n",
        "data_ohe.head() #done before"
      ],
      "execution_count": null,
      "outputs": [
        {
          "output_type": "execute_result",
          "data": {
            "text/html": [
              "<div>\n",
              "<style scoped>\n",
              "    .dataframe tbody tr th:only-of-type {\n",
              "        vertical-align: middle;\n",
              "    }\n",
              "\n",
              "    .dataframe tbody tr th {\n",
              "        vertical-align: top;\n",
              "    }\n",
              "\n",
              "    .dataframe thead th {\n",
              "        text-align: right;\n",
              "    }\n",
              "</style>\n",
              "<table border=\"1\" class=\"dataframe\">\n",
              "  <thead>\n",
              "    <tr style=\"text-align: right;\">\n",
              "      <th></th>\n",
              "      <th>SeniorCitizen</th>\n",
              "      <th>tenure</th>\n",
              "      <th>MonthlyCharges</th>\n",
              "      <th>TotalCharges</th>\n",
              "      <th>Churn</th>\n",
              "      <th>gender_Male</th>\n",
              "      <th>Partner_Yes</th>\n",
              "      <th>Dependents_Yes</th>\n",
              "      <th>PhoneService_Yes</th>\n",
              "      <th>MultipleLines_No phone service</th>\n",
              "      <th>MultipleLines_Yes</th>\n",
              "      <th>InternetService_Fiber optic</th>\n",
              "      <th>InternetService_No</th>\n",
              "      <th>OnlineSecurity_No internet service</th>\n",
              "      <th>OnlineSecurity_Yes</th>\n",
              "      <th>OnlineBackup_No internet service</th>\n",
              "      <th>OnlineBackup_Yes</th>\n",
              "      <th>DeviceProtection_No internet service</th>\n",
              "      <th>DeviceProtection_Yes</th>\n",
              "      <th>TechSupport_No internet service</th>\n",
              "      <th>TechSupport_Yes</th>\n",
              "      <th>StreamingTV_No internet service</th>\n",
              "      <th>StreamingTV_Yes</th>\n",
              "      <th>StreamingMovies_No internet service</th>\n",
              "      <th>StreamingMovies_Yes</th>\n",
              "      <th>Contract_One year</th>\n",
              "      <th>Contract_Two year</th>\n",
              "      <th>PaperlessBilling_Yes</th>\n",
              "      <th>PaymentMethod_Credit card (automatic)</th>\n",
              "      <th>PaymentMethod_Electronic check</th>\n",
              "      <th>PaymentMethod_Mailed check</th>\n",
              "    </tr>\n",
              "  </thead>\n",
              "  <tbody>\n",
              "    <tr>\n",
              "      <th>0</th>\n",
              "      <td>0</td>\n",
              "      <td>54</td>\n",
              "      <td>70.70</td>\n",
              "      <td>3770.00</td>\n",
              "      <td>0</td>\n",
              "      <td>1</td>\n",
              "      <td>1</td>\n",
              "      <td>1</td>\n",
              "      <td>1</td>\n",
              "      <td>0</td>\n",
              "      <td>1</td>\n",
              "      <td>0</td>\n",
              "      <td>0</td>\n",
              "      <td>0</td>\n",
              "      <td>0</td>\n",
              "      <td>0</td>\n",
              "      <td>1</td>\n",
              "      <td>0</td>\n",
              "      <td>0</td>\n",
              "      <td>0</td>\n",
              "      <td>1</td>\n",
              "      <td>0</td>\n",
              "      <td>1</td>\n",
              "      <td>0</td>\n",
              "      <td>0</td>\n",
              "      <td>1</td>\n",
              "      <td>0</td>\n",
              "      <td>1</td>\n",
              "      <td>0</td>\n",
              "      <td>1</td>\n",
              "      <td>0</td>\n",
              "    </tr>\n",
              "    <tr>\n",
              "      <th>1</th>\n",
              "      <td>0</td>\n",
              "      <td>1</td>\n",
              "      <td>80.55</td>\n",
              "      <td>80.55</td>\n",
              "      <td>0</td>\n",
              "      <td>1</td>\n",
              "      <td>0</td>\n",
              "      <td>0</td>\n",
              "      <td>1</td>\n",
              "      <td>0</td>\n",
              "      <td>0</td>\n",
              "      <td>1</td>\n",
              "      <td>0</td>\n",
              "      <td>0</td>\n",
              "      <td>0</td>\n",
              "      <td>0</td>\n",
              "      <td>0</td>\n",
              "      <td>0</td>\n",
              "      <td>0</td>\n",
              "      <td>0</td>\n",
              "      <td>0</td>\n",
              "      <td>0</td>\n",
              "      <td>1</td>\n",
              "      <td>0</td>\n",
              "      <td>0</td>\n",
              "      <td>0</td>\n",
              "      <td>0</td>\n",
              "      <td>1</td>\n",
              "      <td>0</td>\n",
              "      <td>1</td>\n",
              "      <td>0</td>\n",
              "    </tr>\n",
              "    <tr>\n",
              "      <th>2</th>\n",
              "      <td>0</td>\n",
              "      <td>13</td>\n",
              "      <td>19.30</td>\n",
              "      <td>259.65</td>\n",
              "      <td>0</td>\n",
              "      <td>1</td>\n",
              "      <td>0</td>\n",
              "      <td>0</td>\n",
              "      <td>1</td>\n",
              "      <td>0</td>\n",
              "      <td>0</td>\n",
              "      <td>0</td>\n",
              "      <td>1</td>\n",
              "      <td>1</td>\n",
              "      <td>0</td>\n",
              "      <td>1</td>\n",
              "      <td>0</td>\n",
              "      <td>1</td>\n",
              "      <td>0</td>\n",
              "      <td>1</td>\n",
              "      <td>0</td>\n",
              "      <td>1</td>\n",
              "      <td>0</td>\n",
              "      <td>1</td>\n",
              "      <td>0</td>\n",
              "      <td>1</td>\n",
              "      <td>0</td>\n",
              "      <td>0</td>\n",
              "      <td>1</td>\n",
              "      <td>0</td>\n",
              "      <td>0</td>\n",
              "    </tr>\n",
              "    <tr>\n",
              "      <th>3</th>\n",
              "      <td>1</td>\n",
              "      <td>24</td>\n",
              "      <td>96.55</td>\n",
              "      <td>2263.45</td>\n",
              "      <td>0</td>\n",
              "      <td>0</td>\n",
              "      <td>1</td>\n",
              "      <td>1</td>\n",
              "      <td>1</td>\n",
              "      <td>0</td>\n",
              "      <td>0</td>\n",
              "      <td>1</td>\n",
              "      <td>0</td>\n",
              "      <td>0</td>\n",
              "      <td>0</td>\n",
              "      <td>0</td>\n",
              "      <td>0</td>\n",
              "      <td>0</td>\n",
              "      <td>1</td>\n",
              "      <td>0</td>\n",
              "      <td>0</td>\n",
              "      <td>0</td>\n",
              "      <td>1</td>\n",
              "      <td>0</td>\n",
              "      <td>1</td>\n",
              "      <td>0</td>\n",
              "      <td>1</td>\n",
              "      <td>1</td>\n",
              "      <td>0</td>\n",
              "      <td>1</td>\n",
              "      <td>0</td>\n",
              "    </tr>\n",
              "    <tr>\n",
              "      <th>4</th>\n",
              "      <td>1</td>\n",
              "      <td>6</td>\n",
              "      <td>74.10</td>\n",
              "      <td>450.90</td>\n",
              "      <td>0</td>\n",
              "      <td>0</td>\n",
              "      <td>0</td>\n",
              "      <td>0</td>\n",
              "      <td>1</td>\n",
              "      <td>0</td>\n",
              "      <td>0</td>\n",
              "      <td>1</td>\n",
              "      <td>0</td>\n",
              "      <td>0</td>\n",
              "      <td>1</td>\n",
              "      <td>0</td>\n",
              "      <td>0</td>\n",
              "      <td>0</td>\n",
              "      <td>0</td>\n",
              "      <td>0</td>\n",
              "      <td>0</td>\n",
              "      <td>0</td>\n",
              "      <td>0</td>\n",
              "      <td>0</td>\n",
              "      <td>0</td>\n",
              "      <td>0</td>\n",
              "      <td>0</td>\n",
              "      <td>1</td>\n",
              "      <td>0</td>\n",
              "      <td>1</td>\n",
              "      <td>0</td>\n",
              "    </tr>\n",
              "  </tbody>\n",
              "</table>\n",
              "</div>"
            ],
            "text/plain": [
              "   SeniorCitizen  ...  PaymentMethod_Mailed check\n",
              "0              0  ...                           0\n",
              "1              0  ...                           0\n",
              "2              0  ...                           0\n",
              "3              1  ...                           0\n",
              "4              1  ...                           0\n",
              "\n",
              "[5 rows x 31 columns]"
            ]
          },
          "metadata": {
            "tags": []
          },
          "execution_count": 36
        }
      ]
    },
    {
      "cell_type": "code",
      "metadata": {
        "id": "pN9ef9F0gW3B"
      },
      "source": [
        "\n",
        "\n",
        "\n"
      ],
      "execution_count": null,
      "outputs": []
    },
    {
      "cell_type": "code",
      "metadata": {
        "id": "ZfjOFNrAgWzD"
      },
      "source": [
        ""
      ],
      "execution_count": null,
      "outputs": []
    },
    {
      "cell_type": "code",
      "metadata": {
        "id": "kfQVXhHogWuo"
      },
      "source": [
        ""
      ],
      "execution_count": null,
      "outputs": []
    },
    {
      "cell_type": "code",
      "metadata": {
        "id": "9g5c8ahDgWgb"
      },
      "source": [
        ""
      ],
      "execution_count": null,
      "outputs": []
    },
    {
      "cell_type": "code",
      "metadata": {
        "id": "Vsje2W63s3ou"
      },
      "source": [
        "# split train and test data\n",
        "y = data_ohe.Churn\n",
        "X = data_ohe.drop(['Churn'],axis=1)\n",
        "X_train, X_test, y_train, y_test = train_test_split(X, y, test_size=0.3, random_state=42)"
      ],
      "execution_count": null,
      "outputs": []
    },
    {
      "cell_type": "code",
      "metadata": {
        "id": "87w8kUn-rEiI"
      },
      "source": [
        "# Because Support Vector Machine (SVM) optimization occurs by minimizing the decision vector w,\n",
        "# the optimal hyperplane is influenced by the scale of the input features, \n",
        "# therefore, we use standardize scaler on our data\n",
        "scaler = StandardScaler()\n",
        "X_train = scaler.fit_transform(X_train)\n",
        "X_test = scaler.transform(X_test)"
      ],
      "execution_count": null,
      "outputs": []
    },
    {
      "cell_type": "markdown",
      "metadata": {
        "id": "Hm9e5kyJqoB4"
      },
      "source": [
        "# The SVM model"
      ]
    },
    {
      "cell_type": "markdown",
      "metadata": {
        "id": "io08KqxIqw9u"
      },
      "source": [
        "Model choice, "
      ]
    },
    {
      "cell_type": "code",
      "metadata": {
        "id": "OscEs7KfV07c"
      },
      "source": [
        ""
      ],
      "execution_count": null,
      "outputs": []
    },
    {
      "cell_type": "code",
      "metadata": {
        "colab": {
          "base_uri": "https://localhost:8080/"
        },
        "id": "DSybmLR3SApL",
        "outputId": "edc70f77-dcfa-4017-b83f-ff84e97567df"
      },
      "source": [
        "#create the SVM model\n",
        "from sklearn import svm\n",
        "from sklearn.metrics import accuracy_score, f1_score, recall_score, precision_score, confusion_matrix, classification_report\n",
        "\n",
        "\n",
        "#choose the right kernel function\n",
        "for kernel in ('linear', 'poly', 'rbf','sigmoid'):\n",
        "    clf = svm.SVC(kernel=kernel, gamma='auto')\n",
        "    clf.fit(X_train, y_train)\n",
        "    pred=clf.predict(X_test)\n",
        "    print(kernel, \"accuracy\",accuracy_score(y_test,pred))\n",
        "    print(kernel, \"recall\",recall_score(y_test,pred))\n",
        "    print(kernel, \"precision\",precision_score(y_test,pred))\n",
        "    print(kernel, \"F1\",f1_score(y_test,pred))\n",
        "    print(\" \")\n",
        "    # print(classification_report(y_test,pred))\n",
        "    # print(confusion_matrix(y_test,pred))\n",
        "\n",
        "#linear and rbf both have accuracy 0.7975 but high false "
      ],
      "execution_count": null,
      "outputs": [
        {
          "output_type": "stream",
          "text": [
            "linear accuracy 0.7975626269465133\n",
            "linear recall 0.5405405405405406\n",
            "linear precision 0.6626506024096386\n",
            "linear F1 0.5953991880920162\n",
            " \n",
            "poly accuracy 0.7907921462423833\n",
            "poly recall 0.43243243243243246\n",
            "poly precision 0.6929133858267716\n",
            "poly F1 0.5325264750378215\n",
            " \n",
            "rbf accuracy 0.7975626269465133\n",
            "rbf recall 0.4914004914004914\n",
            "rbf precision 0.684931506849315\n",
            "rbf F1 0.5722460658082975\n",
            " \n",
            "sigmoid accuracy 0.7725118483412322\n",
            "sigmoid recall 0.5036855036855037\n",
            "sigmoid precision 0.6047197640117994\n",
            "sigmoid F1 0.549597855227882\n",
            " \n"
          ],
          "name": "stdout"
        }
      ]
    },
    {
      "cell_type": "markdown",
      "metadata": {
        "id": "_lCG2ZuPR6Jz"
      },
      "source": [
        "Using F1 score as metrics to determin which model is the best. The F1 score can be interpreted as a weighted average of the precision and recall. \n",
        "Precision and recall are what we care about the most. Precision means not many loyal clients are predicted as leaving. Recall means predicted most churn clients correctly.\n",
        "We have LINEAR and RBF performs fairly well among all kernels."
      ]
    },
    {
      "cell_type": "code",
      "metadata": {
        "id": "hdT-L5LMSAlH"
      },
      "source": [
        ""
      ],
      "execution_count": null,
      "outputs": []
    },
    {
      "cell_type": "markdown",
      "metadata": {
        "id": "qJaQfsNrTHxy"
      },
      "source": [
        "Since we have imbalanced data with most of data of loyal customers, and only a small portion of the churn data. Thus resampling of the dataset is introduced here."
      ]
    },
    {
      "cell_type": "code",
      "metadata": {
        "colab": {
          "base_uri": "https://localhost:8080/"
        },
        "id": "GiUmpGSiSAa4",
        "outputId": "6e3ee06e-184c-47d4-e2b9-dd56863ba0f6"
      },
      "source": [
        "#resample imbalance data \n",
        "from imblearn.over_sampling import SMOTE\n",
        "method=SMOTE(random_state=42)\n",
        "\n",
        "# y = data_ohe.Churn\n",
        "# X = data_ohe.drop(['Churn'],axis=1)\n",
        "\n",
        "X_sampled, y_sampled=method.fit_resample(X,y)\n",
        "\n",
        "print(f'''Shape of X before SMOTE: {X.shape}\n",
        "Shape of X after SMOTE: {X_sampled.shape}''')\n",
        "\n",
        "print('\\nBalance of positive and negative classes:')\n",
        "print('# of positive data: ',(y_sampled==1).sum())\n",
        "print('# of negative data: ',len(y_sampled)-(y_sampled==1).sum())"
      ],
      "execution_count": null,
      "outputs": [
        {
          "output_type": "stream",
          "text": [
            "Shape of X before SMOTE: (4922, 30)\n",
            "Shape of X after SMOTE: (7254, 30)\n",
            "\n",
            "Balance of positive and negative classes:\n",
            "# of positive data:  3627\n",
            "# of negative data:  3627\n"
          ],
          "name": "stdout"
        },
        {
          "output_type": "stream",
          "text": [
            "/usr/local/lib/python3.6/dist-packages/sklearn/externals/six.py:31: FutureWarning: The module is deprecated in version 0.21 and will be removed in version 0.23 since we've dropped support for Python 2.7. Please rely on the official version of six (https://pypi.org/project/six/).\n",
            "  \"(https://pypi.org/project/six/).\", FutureWarning)\n",
            "/usr/local/lib/python3.6/dist-packages/sklearn/utils/deprecation.py:144: FutureWarning: The sklearn.neighbors.base module is  deprecated in version 0.22 and will be removed in version 0.24. The corresponding classes / functions should instead be imported from sklearn.neighbors. Anything that cannot be imported from sklearn.neighbors is now part of the private API.\n",
            "  warnings.warn(message, FutureWarning)\n",
            "/usr/local/lib/python3.6/dist-packages/sklearn/utils/deprecation.py:87: FutureWarning: Function safe_indexing is deprecated; safe_indexing is deprecated in version 0.22 and will be removed in version 0.24.\n",
            "  warnings.warn(msg, category=FutureWarning)\n"
          ],
          "name": "stderr"
        }
      ]
    },
    {
      "cell_type": "code",
      "metadata": {
        "id": "sb6bC2qjXqHd"
      },
      "source": [
        "X_train, X_test, y_train, y_test = train_test_split(X_sampled, y_sampled, test_size=0.3, random_state=42)"
      ],
      "execution_count": null,
      "outputs": []
    },
    {
      "cell_type": "code",
      "metadata": {
        "id": "fc7B1NQhXqHd",
        "colab": {
          "base_uri": "https://localhost:8080/"
        },
        "outputId": "aeab5478-91ee-4c32-ac56-059be11b5aaf"
      },
      "source": [
        "# linear svm on resampled data\n",
        "kernel='linear'\n",
        "clf = svm.SVC(kernel=kernel, gamma='auto')\n",
        "clf.fit(X_train, y_train)\n",
        "pred=clf.predict(X_test)\n",
        "print(kernel, \"accuracy\",accuracy_score(y_test,pred))\n",
        "print(kernel, \"recall\",recall_score(y_test,pred))\n",
        "print(kernel, \"precision\",precision_score(y_test,pred))\n",
        "print(kernel, \"F1\",f1_score(y_test,pred))"
      ],
      "execution_count": null,
      "outputs": [
        {
          "output_type": "stream",
          "text": [
            "linear accuracy 0.7496554892053284\n",
            "linear recall 0.7361111111111112\n",
            "linear precision 0.7535545023696683\n",
            "linear F1 0.7447306791569087\n"
          ],
          "name": "stdout"
        }
      ]
    },
    {
      "cell_type": "code",
      "metadata": {
        "colab": {
          "base_uri": "https://localhost:8080/"
        },
        "id": "SF_Q_xPhXqHd",
        "outputId": "4184ab84-05d9-4e2b-ff90-ce67a46d3d3d"
      },
      "source": [
        "# rbf svm on resampled data\n",
        "kernel='rbf'\n",
        "clf_rbf = svm.SVC(kernel=kernel, gamma='auto')\n",
        "clf_rbf.fit(X_train, y_train)\n",
        "pred=clf_rbf.predict(X_test)\n",
        "print(kernel, \"accuracy\",accuracy_score(y_test,pred))\n",
        "print(kernel, \"recall\",recall_score(y_test,pred))\n",
        "print(kernel, \"precision\",precision_score(y_test,pred))\n",
        "print(kernel, \"F1\",f1_score(y_test,pred))"
      ],
      "execution_count": null,
      "outputs": [
        {
          "output_type": "stream",
          "text": [
            "rbf accuracy 0.7859439595774\n",
            "rbf recall 0.7472222222222222\n",
            "rbf precision 0.807\n",
            "rbf F1 0.7759615384615385\n"
          ],
          "name": "stdout"
        }
      ]
    },
    {
      "cell_type": "code",
      "metadata": {
        "id": "E1uJhu2UXqHe"
      },
      "source": [
        ""
      ],
      "execution_count": null,
      "outputs": []
    },
    {
      "cell_type": "code",
      "metadata": {
        "id": "JxiviYoxXqHe"
      },
      "source": [
        ""
      ],
      "execution_count": null,
      "outputs": []
    }
  ]
}